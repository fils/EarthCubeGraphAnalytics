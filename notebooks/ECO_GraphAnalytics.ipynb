{
 "cells": [
  {
   "cell_type": "markdown",
   "id": "trying-indiana",
   "metadata": {
    "id": "GXzeuoO2zHt_"
   },
   "source": [
    "# EarthCube Graph Analytics Exploration\n",
    "\n",
    "## About\n",
    "\n",
    "This is the start of learning a bit about leveraging graph analytics to assess the \n",
    "EarthCube graph and explore both the relationships but also look for methods to \n",
    "better search the graph for relevant connections.\n",
    "\n",
    "## References\n",
    "\n",
    "* [RDFLib](https://github.com/RDFLib/rdflib)\n",
    "* [NetworkX](https://networkx.org/)\n",
    "* [NetworkX link analysis](https://networkx.org/documentation/latest/reference/algorithms/link_analysis.html?highlight=page%20rank#)\n",
    "* https://faculty.math.illinois.edu/~riveraq2/teaching/simcamp16/PageRankwithPython.html\n",
    "* https://docs.dask.org/en/latest/\n",
    "* https://examples.dask.org/bag.html\n",
    "* https://s3fs.readthedocs.io/en/latest/\n",
    "* https://docs.dask.org/en/latest/remote-data-services.html"
   ]
  },
  {
   "cell_type": "markdown",
   "id": "tutorial-member",
   "metadata": {
    "id": "XWFreoui0eMJ"
   },
   "source": [
    "## Installs"
   ]
  },
  {
   "cell_type": "code",
   "execution_count": 29,
   "id": "champion-turkish",
   "metadata": {
    "colab": {
     "base_uri": "https://localhost:8080/",
     "height": 185
    },
    "id": "YvgJU6970gfJ",
    "outputId": "6d2e22c6-9b27-4162-80e9-7390e21ac72c"
   },
   "outputs": [],
   "source": [
    "!pip -q install mimesis\n",
    "!pip -q install minio \n",
    "!pip -q install s3fs\n",
    "!pip -q install SPARQLWrapper\n",
    "!pip -q install boto3\n",
    "!pip -q install 'fsspec>=0.3.3'\n",
    "!pip -q install rdflib\n",
    "!pip -q install rdflib-jsonld\n",
    "!pip -q install PyLD==2.0.2"
   ]
  },
  {
   "cell_type": "markdown",
   "id": "pursuant-shower",
   "metadata": {
    "id": "B5cajEkMzsp6"
   },
   "source": [
    "## Imports\n"
   ]
  },
  {
   "cell_type": "code",
   "execution_count": 30,
   "id": "employed-guide",
   "metadata": {
    "id": "hoCJfO4s0BF_"
   },
   "outputs": [],
   "source": [
    "import dask, boto3\n",
    "import dask.dataframe as dd\n",
    "import pandas as pd\n",
    "import json\n",
    "\n",
    "from SPARQLWrapper import SPARQLWrapper, JSON\n",
    "\n",
    "sweet = \"http://cor.esipfed.org/sparql\"\n",
    "dbsparql = \"http://dbpedia.org/sparql\"\n",
    "ufokn = \"http://graph.ufokn.org/blazegraph/namespace/ufokn-dev/sparql\""
   ]
  },
  {
   "cell_type": "markdown",
   "id": "controlling-level",
   "metadata": {
    "id": "9dwMsNlX0FIv"
   },
   "source": [
    "## Code inits"
   ]
  },
  {
   "cell_type": "markdown",
   "id": "common-partition",
   "metadata": {
    "id": "VPCguN7dQnVz"
   },
   "source": [
    "### Helper function(s)\n",
    "The following block is a SPARQL to Pandas feature.  You may need to run it to load the function per standard notebook actions."
   ]
  },
  {
   "cell_type": "code",
   "execution_count": 52,
   "id": "perfect-soldier",
   "metadata": {
    "id": "KlU0kr2R00i_"
   },
   "outputs": [],
   "source": [
    "#@title\n",
    "def get_sparql_dataframe(service, query):\n",
    "    \"\"\"\n",
    "    Helper function to convert SPARQL results into a Pandas data frame.\n",
    "    \"\"\"\n",
    "    sparql = SPARQLWrapper(service)\n",
    "    sparql.setQuery(query)\n",
    "    sparql.setReturnFormat(JSON)\n",
    "    result = sparql.query()\n",
    "\n",
    "    processed_results = json.load(result.response)\n",
    "    cols = processed_results['head']['vars']\n",
    "\n",
    "    out = []\n",
    "    for row in processed_results['results']['bindings']:\n",
    "        item = []\n",
    "        for c in cols:\n",
    "            item.append(row.get(c, {}).get('value'))\n",
    "        out.append(item)\n",
    "\n",
    "    return pd.DataFrame(out, columns=cols)"
   ]
  },
  {
   "cell_type": "markdown",
   "id": "consolidated-filing",
   "metadata": {
    "id": "gF-jNcIplO3X"
   },
   "source": [
    "### Set up some Pandas Dataframe options"
   ]
  },
  {
   "cell_type": "code",
   "execution_count": 53,
   "id": "valid-breakfast",
   "metadata": {
    "colab": {
     "base_uri": "https://localhost:8080/",
     "height": 74
    },
    "id": "Nkiij1wElRrf",
    "outputId": "0f8a88aa-3c71-49f4-98a4-e58396f15412"
   },
   "outputs": [],
   "source": [
    "pd.set_option('display.max_rows', None)\n",
    "pd.set_option('display.max_columns', None)\n",
    "pd.set_option('display.width', None)\n",
    "pd.set_option('display.max_colwidth', None)"
   ]
  },
  {
   "cell_type": "markdown",
   "id": "smoking-import",
   "metadata": {
    "id": "90tBuePF6NCf"
   },
   "source": [
    "### Set up the connection to the object store to access the graph objects from"
   ]
  },
  {
   "cell_type": "code",
   "execution_count": 54,
   "id": "sporting-agenda",
   "metadata": {
    "id": "4tdztPG6gl8b"
   },
   "outputs": [],
   "source": [
    "import s3fs \n",
    "\n",
    "oss = s3fs.S3FileSystem(\n",
    "      anon=True,\n",
    "      key=\"\",\n",
    "      secret=\"\",\n",
    "      client_kwargs = {\"endpoint_url\":\"https://oss.geodex.org\"}\n",
    "   )"
   ]
  },
  {
   "cell_type": "code",
   "execution_count": 55,
   "id": "weird-judges",
   "metadata": {},
   "outputs": [
    {
     "data": {
      "text/plain": [
       "['gleaner/results/cdfv3/bcodmo_graph.nq',\n",
       " 'gleaner/results/cdfv3/earthchem_graph.nq',\n",
       " 'gleaner/results/cdfv3/hydroshare_graph.nq',\n",
       " 'gleaner/results/cdfv3/ieda_graph.nq',\n",
       " 'gleaner/results/cdfv3/iris_graph.nq',\n",
       " 'gleaner/results/cdfv3/lipdverse_graph.nq',\n",
       " 'gleaner/results/cdfv3/ocd_graph.nq',\n",
       " 'gleaner/results/cdfv3/opentopo_graph.nq',\n",
       " 'gleaner/results/cdfv3/ssdb_graph.nq',\n",
       " 'gleaner/results/cdfv3/unavco_graph.nq']"
      ]
     },
     "execution_count": 55,
     "metadata": {},
     "output_type": "execute_result"
    }
   ],
   "source": [
    "# Simple command to list objects in the current results bucket prefix\n",
    "oss.ls('gleaner/results/cdfv3')"
   ]
  },
  {
   "cell_type": "markdown",
   "id": "industrial-folks",
   "metadata": {},
   "source": [
    "## Pull a graph and load\n",
    "\n",
    "Let's pull back an example graph and load it up into an RDFLib graph so we can test out a SPARQL call on it."
   ]
  },
  {
   "cell_type": "code",
   "execution_count": 35,
   "id": "introductory-concept",
   "metadata": {},
   "outputs": [],
   "source": [
    "import rdflib\n",
    "import gzip\n",
    "\n",
    "with oss.open('gleaner/results/cdfv3/opentopo_graph.nq', 'rb') as f:\n",
    "  #print(f.read())\n",
    "   file_content = f.read()  #.decode(\"utf-8\", \"ignore\").replace('\\n',' ')\n",
    "    \n",
    "# with gzip.open('./oceanexperts_graph.nq.gz', 'rb') as f:\n",
    "#     file_content = f.read()\n"
   ]
  },
  {
   "cell_type": "code",
   "execution_count": 39,
   "id": "greenhouse-savage",
   "metadata": {},
   "outputs": [],
   "source": [
    "\n",
    "g = rdflib.Graph()\n",
    "parsed = g.parse(data = file_content, format=\"nquads\")"
   ]
  },
  {
   "cell_type": "code",
   "execution_count": 40,
   "id": "complex-labor",
   "metadata": {},
   "outputs": [
    {
     "name": "stdout",
     "output_type": "stream",
     "text": [
      "Nb0186ff66b5649fbb32491dda263838a Name: High Resolution Topography near Santa Cruz, CA 2017\n",
      "N40a2df2c83054580b8714aac155784be Name: Walker Fault System, Nevada, 2015\n",
      "Na820cf1a029c4f21afaa90b4e2dd8934 Name: Almaty range front fault, Koram site, Kazakhstan\n",
      "N6622f9260fed46dfb80bb0626648657b Name: 2019 Ridgecrest, CA: Trona-Argus Area - Post-Earthquake Lidar\n",
      "Na713d5ea88a248ff96c0b78ab249b449 Name: Alteration of Groundwater Flow due to Slow Landslide Failure, CA\n",
      "Ndcf2768257064225a2414b73eb6526ac Name: 2018 Faraglione, Vulcano Island, Sicily, Italy (simple demo)\n",
      "Na4e31523cb0441b5ab29aa0de226b10d Name: Northern Rockies, Montana lidar 2016\n",
      "Ne8f3de748f1b426cade89ce9ab61789c Name: IT-Ren, Fluxnet site\n",
      "Nbfd99a87ac6d406d82b1204ac052acc3 Name: 2019 Ridgecrest, CA: Trona-Argus Area - Post-Earthquake Lidar\n",
      "N8f41aac0fc3242e7a271f43e1601fedf Name: Manawatu - Whanganui, New Zealand 2015\n"
     ]
    }
   ],
   "source": [
    "qres = g.query(\n",
    "    \"\"\"prefix schema: <http://schema.org/>\n",
    "    SELECT DISTINCT ?s ?name\n",
    "       WHERE {\n",
    "          ?s  a schema:Dataset.\n",
    "           ?s schema:name ?name.\n",
    "       }\n",
    "       LIMIT 10\"\"\")\n",
    "\n",
    "for row in qres:\n",
    "    print(\"%s Name: %s\" % row)"
   ]
  },
  {
   "cell_type": "markdown",
   "id": "brilliant-physics",
   "metadata": {},
   "source": [
    "## Convert to NetworkX\n",
    "\n",
    "Convert this to a networkx graph so we can explore some analytics calls"
   ]
  },
  {
   "cell_type": "code",
   "execution_count": 45,
   "id": "effective-software",
   "metadata": {},
   "outputs": [],
   "source": [
    "import rdflib\n",
    "from rdflib.extras.external_graph_libs import rdflib_to_networkx_multidigraph\n",
    "from rdflib.extras.external_graph_libs import rdflib_to_networkx_digraph\n",
    "import networkx as nx\n",
    "import matplotlib.pyplot as plt\n",
    "\n",
    "G = rdflib_to_networkx_digraph(parsed)\n"
   ]
  },
  {
   "cell_type": "markdown",
   "id": "concerned-rainbow",
   "metadata": {},
   "source": [
    "### Pagerank\n",
    "\n",
    "Test a page rank call and see if we can load the results into Pandas and sort."
   ]
  },
  {
   "cell_type": "code",
   "execution_count": 47,
   "id": "likely-directive",
   "metadata": {},
   "outputs": [
    {
     "data": {
      "text/html": [
       "<div>\n",
       "<style scoped>\n",
       "    .dataframe tbody tr th:only-of-type {\n",
       "        vertical-align: middle;\n",
       "    }\n",
       "\n",
       "    .dataframe tbody tr th {\n",
       "        vertical-align: top;\n",
       "    }\n",
       "\n",
       "    .dataframe thead th {\n",
       "        text-align: right;\n",
       "    }\n",
       "</style>\n",
       "<table border=\"1\" class=\"dataframe\">\n",
       "  <thead>\n",
       "    <tr style=\"text-align: right;\">\n",
       "      <th></th>\n",
       "      <th>0</th>\n",
       "    </tr>\n",
       "  </thead>\n",
       "  <tbody>\n",
       "    <tr>\n",
       "      <th>http://schema.org/PropertyValue</th>\n",
       "      <td>0.065468</td>\n",
       "    </tr>\n",
       "    <tr>\n",
       "      <th>http://schema.org/Organization</th>\n",
       "      <td>0.031006</td>\n",
       "    </tr>\n",
       "    <tr>\n",
       "      <th>http://schema.org/GeoShape</th>\n",
       "      <td>0.017148</td>\n",
       "    </tr>\n",
       "    <tr>\n",
       "      <th>Vertical Coordinates</th>\n",
       "      <td>0.011443</td>\n",
       "    </tr>\n",
       "    <tr>\n",
       "      <th>Horizontal Coordinates</th>\n",
       "      <td>0.011443</td>\n",
       "    </tr>\n",
       "    <tr>\n",
       "      <th>Area</th>\n",
       "      <td>0.009463</td>\n",
       "    </tr>\n",
       "    <tr>\n",
       "      <th>Unit</th>\n",
       "      <td>0.008047</td>\n",
       "    </tr>\n",
       "    <tr>\n",
       "      <th>meter</th>\n",
       "      <td>0.007746</td>\n",
       "    </tr>\n",
       "    <tr>\n",
       "      <th>http://schema.org/Place</th>\n",
       "      <td>0.007105</td>\n",
       "    </tr>\n",
       "    <tr>\n",
       "      <th>opentopoID</th>\n",
       "      <td>0.006980</td>\n",
       "    </tr>\n",
       "  </tbody>\n",
       "</table>\n",
       "</div>"
      ],
      "text/plain": [
       "                                        0\n",
       "http://schema.org/PropertyValue  0.065468\n",
       "http://schema.org/Organization   0.031006\n",
       "http://schema.org/GeoShape       0.017148\n",
       "Vertical Coordinates             0.011443\n",
       "Horizontal Coordinates           0.011443\n",
       "Area                             0.009463\n",
       "Unit                             0.008047\n",
       "meter                            0.007746\n",
       "http://schema.org/Place          0.007105\n",
       "opentopoID                       0.006980"
      ]
     },
     "execution_count": 47,
     "metadata": {},
     "output_type": "execute_result"
    }
   ],
   "source": [
    "import pandas as pd\n",
    "\n",
    "pr = nx.pagerank(G,alpha=0.9)\n",
    "prdf = pd.DataFrame.from_dict(pr, orient='index')\n",
    "prdf.sort_values(by=0,ascending=False, inplace=True,)\n",
    "prdf.head(10)"
   ]
  },
  {
   "cell_type": "markdown",
   "id": "retired-vessel",
   "metadata": {},
   "source": [
    "### NetworkX hits \n",
    "\n",
    "Try the hits API.   Sadly we fail here on this graph while we sare OK on smaller grsaphs  May need to up the iterations it tries?"
   ]
  },
  {
   "cell_type": "code",
   "execution_count": 51,
   "id": "empty-frequency",
   "metadata": {},
   "outputs": [
    {
     "ename": "PowerIterationFailedConvergence",
     "evalue": "(PowerIterationFailedConvergence(...), 'power iteration failed to converge within 100 iterations')",
     "output_type": "error",
     "traceback": [
      "\u001b[0;31m---------------------------------------------------------------------------\u001b[0m",
      "\u001b[0;31mPowerIterationFailedConvergence\u001b[0m           Traceback (most recent call last)",
      "\u001b[0;32m<ipython-input-51-bdf11a20e997>\u001b[0m in \u001b[0;36m<module>\u001b[0;34m\u001b[0m\n\u001b[0;32m----> 1\u001b[0;31m \u001b[0mhits\u001b[0m \u001b[0;34m=\u001b[0m \u001b[0mnx\u001b[0m\u001b[0;34m.\u001b[0m\u001b[0mhits\u001b[0m\u001b[0;34m(\u001b[0m\u001b[0mG\u001b[0m\u001b[0;34m)\u001b[0m  \u001b[0;31m# can also be done with a nodelist (which is interesting.   provide with SPARQL call?)\u001b[0m\u001b[0;34m\u001b[0m\u001b[0;34m\u001b[0m\u001b[0m\n\u001b[0m",
      "\u001b[0;32m/opt/conda/lib/python3.8/site-packages/networkx/algorithms/link_analysis/hits_alg.py\u001b[0m in \u001b[0;36mhits\u001b[0;34m(G, max_iter, tol, nstart, normalized)\u001b[0m\n\u001b[1;32m    109\u001b[0m             \u001b[0;32mbreak\u001b[0m\u001b[0;34m\u001b[0m\u001b[0;34m\u001b[0m\u001b[0m\n\u001b[1;32m    110\u001b[0m     \u001b[0;32melse\u001b[0m\u001b[0;34m:\u001b[0m\u001b[0;34m\u001b[0m\u001b[0;34m\u001b[0m\u001b[0m\n\u001b[0;32m--> 111\u001b[0;31m         \u001b[0;32mraise\u001b[0m \u001b[0mnx\u001b[0m\u001b[0;34m.\u001b[0m\u001b[0mPowerIterationFailedConvergence\u001b[0m\u001b[0;34m(\u001b[0m\u001b[0mmax_iter\u001b[0m\u001b[0;34m)\u001b[0m\u001b[0;34m\u001b[0m\u001b[0;34m\u001b[0m\u001b[0m\n\u001b[0m\u001b[1;32m    112\u001b[0m     \u001b[0;32mif\u001b[0m \u001b[0mnormalized\u001b[0m\u001b[0;34m:\u001b[0m\u001b[0;34m\u001b[0m\u001b[0;34m\u001b[0m\u001b[0m\n\u001b[1;32m    113\u001b[0m         \u001b[0ms\u001b[0m \u001b[0;34m=\u001b[0m \u001b[0;36m1.0\u001b[0m \u001b[0;34m/\u001b[0m \u001b[0msum\u001b[0m\u001b[0;34m(\u001b[0m\u001b[0ma\u001b[0m\u001b[0;34m.\u001b[0m\u001b[0mvalues\u001b[0m\u001b[0;34m(\u001b[0m\u001b[0;34m)\u001b[0m\u001b[0;34m)\u001b[0m\u001b[0;34m\u001b[0m\u001b[0;34m\u001b[0m\u001b[0m\n",
      "\u001b[0;31mPowerIterationFailedConvergence\u001b[0m: (PowerIterationFailedConvergence(...), 'power iteration failed to converge within 100 iterations')"
     ]
    }
   ],
   "source": [
    "hits = nx.hits(G)  # can also be done with a nodelist (which is interesting.   provide with SPARQL call?)"
   ]
  },
  {
   "cell_type": "code",
   "execution_count": null,
   "id": "indirect-torture",
   "metadata": {},
   "outputs": [],
   "source": [
    "hitsdf = pd.DataFrame.from_dict(hits)\n",
    "hitsdf.head()"
   ]
  },
  {
   "cell_type": "code",
   "execution_count": null,
   "id": "small-balloon",
   "metadata": {},
   "outputs": [],
   "source": []
  }
 ],
 "metadata": {
  "kernelspec": {
   "display_name": "Python 3",
   "language": "python",
   "name": "python3"
  },
  "language_info": {
   "codemirror_mode": {
    "name": "ipython",
    "version": 3
   },
   "file_extension": ".py",
   "mimetype": "text/x-python",
   "name": "python",
   "nbconvert_exporter": "python",
   "pygments_lexer": "ipython3",
   "version": "3.8.6"
  }
 },
 "nbformat": 4,
 "nbformat_minor": 5
}
