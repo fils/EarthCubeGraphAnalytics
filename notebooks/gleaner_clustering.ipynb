{
 "cells": [
  {
   "cell_type": "markdown",
   "metadata": {
    "id": "z3f55kIaVcKv"
   },
   "source": [
    "# SciKit K-means Clustering"
   ]
  },
  {
   "cell_type": "markdown",
   "metadata": {
    "id": "rIYnezS_76og"
   },
   "source": [
    "Exploring SciKit-Learn (https://scikit-learn.org/stable/) for semantic search.  Here I am looking at the k-means approach (https://scikit-learn.org/stable/auto_examples/cluster/plot_kmeans_assumptions.html#sphx-glr-auto-examples-cluster-plot-kmeans-assumptions-py).  Specifically the Mini-Batch K-Means clustering (https://scikit-learn.org/stable/modules/generated/sklearn.cluster.MiniBatchKMeans.html).  \n",
    "\n",
    "There are MANY approaches (https://scikit-learn.org/stable/auto_examples/index.html#cluster-examples) and it would be nice to get some guidance on what might make a good approach for building a similarity matrix of descriptive abstracts for datasets. \n",
    "\n",
    "## Notes:\n",
    "\n",
    "Some search concepts are:\n",
    "\n",
    "* Geolocation: \"Gulf of Mexico\", \"Bay of Fundy\", \"Georges Bank\"\n",
    "* Parameter: \"chlorophyll\", \"abundance\", \"dissolved organic carbon\"\n",
    "* Species: \"calanus finmarchicus\"\n",
    "* Instrument\": \"CTD\", \"bongo net\"\n",
    "* Project: \"C-DEBI\"\n",
    "\n",
    "The worry is these by themselves just become \"frequncy searches\".   What we want are search phrases that we can pull semantics from.  \n",
    "\n",
    "```\n",
    "!apt-get install libproj-dev proj-data proj-bin -qq\n",
    "!apt-get install libgeos-dev -qq\n",
    "```"
   ]
  },
  {
   "cell_type": "markdown",
   "metadata": {
    "id": "Zq_3lQ2VS-5p"
   },
   "source": [
    "## Imports and Inits"
   ]
  },
  {
   "cell_type": "code",
   "execution_count": 1,
   "metadata": {
    "colab": {
     "base_uri": "https://localhost:8080/",
     "height": 71
    },
    "id": "jJ1LYU4PVMaK",
    "outputId": "87b451d1-559e-4626-ff91-c8e63a33cc21"
   },
   "outputs": [],
   "source": [
    "!pip install -q PyLD\n",
    "!pip install -q boto3\n",
    "!pip install -q minio\n",
    "!pip install -q rdflib==4.2.2\n",
    "!pip install -q cython\n",
    "!pip install -q cartopy\n",
    "!pip install -q SPARQLWrapper\n",
    "!pip install -q geopandas\n",
    "!pip install -q contextily==1.0rc2\n",
    "!pip install -q rdflib-jsonld==0.5.0\n"
   ]
  },
  {
   "cell_type": "code",
   "execution_count": 3,
   "metadata": {
    "colab": {
     "base_uri": "https://localhost:8080/",
     "height": 54
    },
    "id": "K5JyZ1UxRvyo",
    "outputId": "994010a2-b0e7-413b-f86c-5a9e8c2eb867"
   },
   "outputs": [],
   "source": [
    "import requests\n",
    "import json\n",
    "import rdflib\n",
    "import pandas as pd\n",
    "from pandas.io.json import json_normalize \n",
    "import concurrent.futures\n",
    "import urllib.request\n",
    "import dask, boto3\n",
    "from SPARQLWrapper import SPARQLWrapper, JSON\n",
    "import numpy as np\n",
    "import geopandas\n",
    "import matplotlib.pyplot as plt\n",
    "import shapely\n",
    "\n",
    "from sklearn.cluster import MiniBatchKMeans\n",
    "from sklearn.feature_extraction.text import TfidfVectorizer\n",
    "from sklearn.decomposition import PCA\n",
    " \n",
    "\n",
    "dbsparql = \"http://dbpedia.org/sparql\"\n",
    "okn = \"http://graph.openknowledge.network/blazegraph/namespace/samplesearth/sparql\"\n",
    "whoi = \"https://lod.bco-dmo.org/sparql\"    \n",
    "    \n",
    "# Pandas options\n",
    "pd.set_option('display.max_rows', None)\n",
    "pd.set_option('display.max_columns', None)\n",
    "pd.set_option('display.width', None)\n",
    "pd.set_option('display.max_colwidth', None)"
   ]
  },
  {
   "cell_type": "markdown",
   "metadata": {
    "id": "85blrbV2V5Y6"
   },
   "source": [
    "## Data Loading"
   ]
  },
  {
   "cell_type": "markdown",
   "metadata": {
    "id": "27XGS8Mk4Bm_"
   },
   "source": [
    "## Gleaner Data\n",
    "\n",
    "First lets load up some of the data Gleaner has collected.  This is just simple data graph objects and not any graphs or other processed products from Gleaner. "
   ]
  },
  {
   "cell_type": "code",
   "execution_count": 4,
   "metadata": {
    "id": "_tZgszLR4YSm"
   },
   "outputs": [],
   "source": [
    "# Set up our S3FileSystem object\n",
    "import s3fs \n",
    "oss = s3fs.S3FileSystem(\n",
    "      anon=True,\n",
    "      client_kwargs = {\"endpoint_url\":\"https://oss.geodex.org\"}\n",
    "   )\n",
    "# oss.ls('gleaner/summoned')"
   ]
  },
  {
   "cell_type": "code",
   "execution_count": 5,
   "metadata": {
    "colab": {
     "base_uri": "https://localhost:8080/",
     "height": 54
    },
    "id": "0YEib_ce4eu9",
    "outputId": "c1a394c7-7fdf-446f-f711-6a5edf78c0f1"
   },
   "outputs": [],
   "source": [
    "# # A simple example of grabbing one item...  \n",
    "# import json \n",
    "\n",
    "# jld = \"\"\n",
    "# with oss.open('gleaner/summoned/opentopo/231f7fa996be8bd5c28b64ed42907b65cca5ee30.jsonld', 'rb') as f:\n",
    "#   #print(f.read())\n",
    "#    jld = f.read().decode(\"utf-8\", \"ignore\").replace('\\n',' ')\n",
    "#    json = json.loads(jld)\n",
    "\n",
    "# document = json['description']\n",
    "# print(document)"
   ]
  },
  {
   "cell_type": "code",
   "execution_count": 6,
   "metadata": {
    "colab": {
     "base_uri": "https://localhost:8080/",
     "height": 51
    },
    "id": "jta0pzeOKbG0",
    "outputId": "ee31747e-bc21-40ed-c133-37154f0c2e45"
   },
   "outputs": [
    {
     "name": "stdout",
     "output_type": "stream",
     "text": [
      "indexing gleaner/summoned/opentopo\n",
      "654\n"
     ]
    }
   ],
   "source": [
    "import json\n",
    "\n",
    "@dask.delayed()\n",
    "def read_a_file(fn):\n",
    "    # or preferably open in text mode and json.load from the file\n",
    "    with oss.open(fn, 'rb') as f:\n",
    "        #return json.loads(f.read().replace('\\n',' '))\n",
    "        return json.loads(f.read().decode(\"utf-8\", \"ignore\").replace('\\n',' '))\n",
    "\n",
    "# buckets = ['gleaner/summoned/dataucaredu', 'gleaner/summoned/getiedadataorg', 'gleaner/summoned/iris', 'gleaner/summoned/opentopo', 'gleaner/summoned/ssdb', 'gleaner/summoned/wikilinkedearth', 'gleaner/summoned/wwwbco-dmoorg', 'gleaner/summoned/wwwhydroshareorg', 'gleaner/summoned/wwwunavcoorg']\n",
    "\n",
    "buckets = ['gleaner/summoned/opentopo']\n",
    "\n",
    "filenames = []\n",
    "\n",
    "for d in range(len(buckets)):\n",
    "  print(\"indexing {}\".format(buckets[d]))\n",
    "  f = oss.ls(buckets[d])\n",
    "  filenames += f\n",
    "\n",
    "#filenames = oss.cat('gleaner/summoned/opentopo', recursive=True)\n",
    "output = [read_a_file(f) for f in filenames]\n",
    "print(len(filenames))\n"
   ]
  },
  {
   "cell_type": "code",
   "execution_count": 7,
   "metadata": {
    "colab": {
     "base_uri": "https://localhost:8080/",
     "height": 51
    },
    "id": "Uwjzh7PmK5Z9",
    "outputId": "54c5d5d3-83c8-4e1c-a65f-22cd11363dd0"
   },
   "outputs": [
    {
     "name": "stdout",
     "output_type": "stream",
     "text": [
      "CPU times: user 10.8 s, sys: 323 ms, total: 11.1 s\n",
      "Wall time: 54 s\n"
     ]
    }
   ],
   "source": [
    "%%time\n",
    "\n",
    "gldf = pd.DataFrame(columns=['name', 'url', \"keywords\", \"description\", \"object\"])\n",
    "\n",
    "#for key in filenames:\n",
    "\n",
    "for doc in range(len(output)):\n",
    "#for doc in range(10):\n",
    "#for key in filenames:\n",
    "  #if \".jsonld\" in key:\n",
    "  if \"/.jsonld\" not in filenames[doc] :\n",
    "    try:\n",
    "      jld = output[doc].compute()\n",
    "    except:\n",
    "      print(filenames[doc])\n",
    "      print(\"Doc has bad encoding\")\n",
    "\n",
    "    # TODO  Really need to flatten and or frame this\n",
    "    try:\n",
    "      desc = jld[\"description\"]\n",
    "    except:\n",
    "      desc = \"NA\"\n",
    "      continue\n",
    "    kws = \"keywords\" #jld[\"keywords\"]\n",
    "    name = jld[\"name\"]\n",
    "    url = \"NA\" #jld[\"url\"]\n",
    "    object = filenames[doc]\n",
    "\n",
    "    gldf = gldf.append({'name':name, 'url':url, 'keywords':kws, 'description': desc, 'object': object}, ignore_index=True)\n"
   ]
  },
  {
   "cell_type": "code",
   "execution_count": 8,
   "metadata": {
    "colab": {
     "base_uri": "https://localhost:8080/",
     "height": 221
    },
    "id": "5YBhd00_aLIF",
    "outputId": "a40fedbf-da6b-4e21-8b24-8ba2433d5fbd"
   },
   "outputs": [
    {
     "name": "stdout",
     "output_type": "stream",
     "text": [
      "<class 'pandas.core.frame.DataFrame'>\n",
      "RangeIndex: 654 entries, 0 to 653\n",
      "Data columns (total 5 columns):\n",
      " #   Column       Non-Null Count  Dtype \n",
      "---  ------       --------------  ----- \n",
      " 0   name         654 non-null    object\n",
      " 1   url          654 non-null    object\n",
      " 2   keywords     654 non-null    object\n",
      " 3   description  654 non-null    object\n",
      " 4   object       654 non-null    object\n",
      "dtypes: object(5)\n",
      "memory usage: 25.7+ KB\n"
     ]
    }
   ],
   "source": [
    "gldf.info()\n",
    "# gldf.to_parquet('index.parquet.gzip',  compression='gzip') # optional save state here ...  one master parquet for Geodex? "
   ]
  },
  {
   "cell_type": "markdown",
   "metadata": {
    "id": "8knEg_wOav59"
   },
   "source": [
    "## Feature extraction\n",
    "\n",
    "Let's just worry about the description section for now.\n"
   ]
  },
  {
   "cell_type": "code",
   "execution_count": 10,
   "metadata": {
    "id": "Ma6hPNSFXYM_"
   },
   "outputs": [],
   "source": [
    "vec = TfidfVectorizer(stop_words=\"english\")\n",
    "vec.fit(gldf.description.values)\n",
    "features = vec.transform(gldf.description.values)"
   ]
  },
  {
   "cell_type": "markdown",
   "metadata": {
    "id": "5ZnzXwKObOrv"
   },
   "source": [
    "### Kmeans clusters\n",
    "\n",
    "Guess at the number a few times since we don't have a prior idea who many natural clusterings we might expect"
   ]
  },
  {
   "cell_type": "code",
   "execution_count": 11,
   "metadata": {
    "colab": {
     "base_uri": "https://localhost:8080/",
     "height": 85
    },
    "id": "NqdxAqM9a097",
    "outputId": "3defdb60-8783-4668-ce96-790982317aac"
   },
   "outputs": [
    {
     "data": {
      "text/plain": [
       "MiniBatchKMeans(n_clusters=20, random_state=0)"
      ]
     },
     "execution_count": 11,
     "metadata": {},
     "output_type": "execute_result"
    }
   ],
   "source": [
    "random_state = 0 \n",
    "\n",
    "cls = MiniBatchKMeans(n_clusters=20, random_state=random_state)\n",
    "cls.fit(features)"
   ]
  },
  {
   "cell_type": "code",
   "execution_count": 12,
   "metadata": {
    "colab": {
     "base_uri": "https://localhost:8080/",
     "height": 34
    },
    "id": "6TlJnzdgbcZh",
    "outputId": "45779b21-49f4-4002-af41-239dfa39859f"
   },
   "outputs": [
    {
     "data": {
      "text/plain": [
       "array([18,  9, 18, 18, 18,  5, 18, 12, 18, 12, 15, 16,  0,  0, 15, 18, 15,\n",
       "        1,  0,  5, 18, 12, 18,  0, 14,  8, 18, 13, 18, 12,  8, 18, 12, 18,\n",
       "       16, 12,  2, 18,  0,  0, 17, 18,  6,  0,  0,  5,  2, 12,  2, 18, 12,\n",
       "       15,  2, 17,  9, 11,  0, 12,  9,  1,  2,  0, 18,  2,  5, 12, 13, 15,\n",
       "       17,  2,  2, 18, 18, 16,  0,  2, 18,  0, 13,  5, 18,  2,  0, 11, 18,\n",
       "        0, 12, 14,  0,  0,  9,  8,  9, 11,  5,  9, 12, 17,  1, 12,  7,  0,\n",
       "        9,  5,  2, 12, 13, 18, 18, 12,  2,  0,  0, 18, 18,  0,  0, 18, 18,\n",
       "        8,  2,  2,  0, 18, 13,  1,  2,  9, 13,  0,  8, 18, 13, 12,  1,  2,\n",
       "        2,  0, 16,  5,  0,  9,  0, 12,  0, 13, 12, 18, 18,  1,  2,  8, 13,\n",
       "        1,  9,  0,  0,  2, 13, 15,  4,  0,  2, 12,  2, 18,  9,  1, 13,  5,\n",
       "        0,  0, 18, 18,  0,  9, 15, 14, 18, 19,  3, 18, 15, 18,  2, 18,  0,\n",
       "        8, 16, 18, 18,  0,  9, 13, 18, 17,  2,  2,  2, 18, 18, 17,  5, 11,\n",
       "       18, 18, 18, 18, 13,  2, 18, 18, 18, 18, 18, 18, 19,  0, 18,  5,  2,\n",
       "        5,  2,  0,  0,  2,  9,  4,  1, 18,  0,  4,  3,  9, 16,  1, 16,  0,\n",
       "        5, 13, 12,  9,  2, 11, 12, 12,  2, 18, 18,  2,  9, 12,  3, 12, 18,\n",
       "        2, 18,  7, 18,  0,  3,  0,  2,  0,  5,  9,  1,  2, 16,  3, 18, 13,\n",
       "        9, 14, 18, 12, 15, 11,  2, 18,  5,  9,  0,  0,  9,  5, 18,  2,  2,\n",
       "       18, 10,  2, 12,  8, 12, 15,  0, 18,  2, 18, 10,  2,  9, 18, 16,  0,\n",
       "       16,  8,  5, 11, 11,  2,  5, 12,  3, 18, 16,  5,  2,  0, 18,  8,  8,\n",
       "        0, 15, 17, 12, 15,  2,  0,  2, 12, 18, 15, 12,  5, 18,  5, 18,  5,\n",
       "       11,  8, 18, 14, 18, 15,  5,  0, 12, 18, 18,  2,  0,  9,  1,  0,  4,\n",
       "       17, 17,  0,  5, 18,  2, 12,  5, 17,  2, 18, 15,  4, 12, 12, 12,  3,\n",
       "       18,  2, 17, 18,  0,  5, 18, 12,  2, 15, 18, 18,  2,  5,  0, 16,  0,\n",
       "       15,  0,  5, 18, 18, 12, 11,  3,  2, 18,  8,  5,  0,  1,  8,  8,  5,\n",
       "        2,  0,  2, 18, 18, 12, 18, 12, 12,  4,  1,  1, 15,  8, 18,  8,  5,\n",
       "        6, 18,  2,  0, 18, 17, 14,  2,  9, 18, 18, 18, 12,  0,  2,  4,  0,\n",
       "       18,  0,  9,  0,  2,  3, 13, 18,  8,  4, 13, 18, 18,  0, 18,  0,  6,\n",
       "       16, 13, 18,  7,  2, 17,  0,  5, 17,  2,  6,  1,  2, 18, 13,  9, 18,\n",
       "       18, 12,  8,  4, 18, 13,  2, 12, 18, 16,  5, 18, 13,  0,  9,  0, 18,\n",
       "        2, 13, 16, 11, 12,  3, 13, 18, 18,  5, 18, 12, 18,  2,  9, 18,  0,\n",
       "        2, 18,  9,  0, 18, 19, 18, 18,  0, 19, 18, 16, 18,  1,  7, 12,  2,\n",
       "       18,  9, 11, 18, 18,  2,  5, 15,  2,  4,  3,  2, 13,  0, 13, 18,  0,\n",
       "        0,  0, 11, 18, 18,  9, 12, 13,  7,  0,  0,  2, 15,  5,  5,  9,  8,\n",
       "        0, 13, 18, 15, 18, 12, 18,  7,  2,  0, 18, 18, 12,  4,  3, 16,  0,\n",
       "       18, 12, 12, 18, 18,  5,  1, 11, 13,  9, 13,  0, 18, 18,  0, 18, 18,\n",
       "        0, 18, 12, 15, 18, 18,  0,  2, 12,  0,  0, 17, 13, 12, 16,  2,  4,\n",
       "       13, 12, 18, 18, 18, 18, 18, 18, 11, 12, 11, 11,  2, 12,  2, 12, 12,\n",
       "        9, 18, 16, 13,  2,  2, 12, 11, 12, 15, 17, 12, 18, 16, 18, 18,  0,\n",
       "       18, 18,  1,  2,  0,  5,  0,  2], dtype=int32)"
      ]
     },
     "execution_count": 12,
     "metadata": {},
     "output_type": "execute_result"
    }
   ],
   "source": [
    "# predict cluster labels for new dataset\n",
    "cls.predict(features)\n",
    "\n",
    "# to get cluster labels for the dataset used while\n",
    "# training the model (used for models that does not\n",
    "# support prediction on new dataset).\n",
    "cls.labels_"
   ]
  },
  {
   "cell_type": "code",
   "execution_count": 13,
   "metadata": {
    "id": "ymxJsWDhcFAw"
   },
   "outputs": [],
   "source": [
    "# reduce the features to 2D\n",
    "pca = PCA(n_components=2, random_state=random_state)\n",
    "reduced_features = pca.fit_transform(features.toarray())\n",
    "\n",
    "# reduce the cluster centers to 2D\n",
    "reduced_cluster_centers = pca.transform(cls.cluster_centers_)"
   ]
  },
  {
   "cell_type": "code",
   "execution_count": 14,
   "metadata": {
    "colab": {
     "base_uri": "https://localhost:8080/",
     "height": 282
    },
    "id": "0kZT1rg6cIrY",
    "outputId": "306ce7d9-8fe6-4acc-9260-777a2a02fbf1"
   },
   "outputs": [
    {
     "data": {
      "text/plain": [
       "<matplotlib.collections.PathCollection at 0x7f6f54d939d0>"
      ]
     },
     "execution_count": 14,
     "metadata": {},
     "output_type": "execute_result"
    },
    {
     "data": {
      "image/png": "[encoded data removed]",
      "text/plain": [
       "<Figure size 432x288 with 1 Axes>"
      ]
     },
     "metadata": {
      "needs_background": "light"
     },
     "output_type": "display_data"
    }
   ],
   "source": [
    "plt.scatter(reduced_features[:,0], reduced_features[:,1], c=cls.predict(features))\n",
    "plt.scatter(reduced_cluster_centers[:, 0], reduced_cluster_centers[:,1], marker='x', s=150, c='b')"
   ]
  },
  {
   "cell_type": "markdown",
   "metadata": {
    "id": "vPf6s_KiqzGg"
   },
   "source": [
    "## Nearest Neighbor testing"
   ]
  },
  {
   "cell_type": "code",
   "execution_count": 15,
   "metadata": {
    "colab": {
     "base_uri": "https://localhost:8080/",
     "height": 68
    },
    "id": "u8PAiJQ0cMGm",
    "outputId": "47110768-b286-4f45-b6cb-72e4c4972357"
   },
   "outputs": [
    {
     "data": {
      "text/plain": [
       "NearestNeighbors(metric='cosine', n_neighbors=10)"
      ]
     },
     "execution_count": 15,
     "metadata": {},
     "output_type": "execute_result"
    }
   ],
   "source": [
    "from sklearn.neighbors import NearestNeighbors\n",
    "knn = NearestNeighbors(n_neighbors=10, metric='cosine')\n",
    "knn.fit(features)"
   ]
  },
  {
   "cell_type": "code",
   "execution_count": 16,
   "metadata": {
    "colab": {
     "base_uri": "https://localhost:8080/",
     "height": 34
    },
    "id": "FxVAYTJSq9vi",
    "outputId": "5c3aa36b-d9ba-4a6f-bbed-e46a2b4c809c"
   },
   "outputs": [
    {
     "data": {
      "text/plain": [
       "array([[  0, 520, 395, 248, 355, 276, 176, 327, 598, 638]])"
      ]
     },
     "execution_count": 16,
     "metadata": {},
     "output_type": "execute_result"
    }
   ],
   "source": [
    "knn.kneighbors(features[0:1], return_distance=False)\n"
   ]
  },
  {
   "cell_type": "code",
   "execution_count": 17,
   "metadata": {
    "colab": {
     "base_uri": "https://localhost:8080/",
     "height": 68
    },
    "id": "q_3I8YLbrB9x",
    "outputId": "acbde281-c7fa-4125-c6b3-48b37cf701ab"
   },
   "outputs": [
    {
     "data": {
      "text/plain": [
       "(array([[0.        , 0.05126516, 0.37921939, 0.4165376 , 0.6984332 ,\n",
       "         0.87318168, 0.87318168, 0.87318168, 0.87318168, 0.88349159]]),\n",
       " array([[  0, 520, 395, 248, 355, 276, 176, 327, 598, 638]]))"
      ]
     },
     "execution_count": 17,
     "metadata": {},
     "output_type": "execute_result"
    }
   ],
   "source": [
    "knn.kneighbors(features[0:1], return_distance=True)\n"
   ]
  },
  {
   "cell_type": "markdown",
   "metadata": {},
   "source": [
    "## Search testing\n",
    "\n",
    "run a few test searches and then plot the first n (4) results"
   ]
  },
  {
   "cell_type": "code",
   "execution_count": 20,
   "metadata": {
    "colab": {
     "base_uri": "https://localhost:8080/",
     "height": 1000
    },
    "id": "UmALprWSrEjd",
    "outputId": "6de8a1ff-1c28-478c-fd0e-d0b150ff47e1"
   },
   "outputs": [
    {
     "name": "stdout",
     "output_type": "stream",
     "text": [
      "Input text =  New Zeland lidar data \n",
      "\n",
      "Distance =  0.6759095922425897 Neighbor idx =  59\n",
      "Bay of Plenty, New Zealand 2018-2019\n",
      "Lidar was captured for BOPLASS Limited by AAM New Zealand between December 2018 and April 2019. The dataset was generated by AAM New Zealand and their subcontractors. The survey area includes Tauranga, Rotorua and Whakatane and the surrounding area. Data management and distribution is by Land Information New Zealand.\n",
      "--------------------------------------------------------------------------------------------------------------------------------------------------------------------------------------------------------\n",
      "Distance =  0.6833093201645597 Neighbor idx =  470\n",
      "Auckland South, New Zealand 2016-2017\n",
      "Lidar was captured for Auckland Council by AAM New Zealand between September 2016 through to June 2017. The original dataset was generated by AAM New Zealand and their subcontractors. The survey area covers the southern Auckland suburbs and regions. Data management and distribution is by Land Information New Zealand.\n",
      "--------------------------------------------------------------------------------------------------------------------------------------------------------------------------------------------------------\n",
      "Distance =  0.7069674707157929 Neighbor idx =  125\n",
      "Marsden Point, Northland, New Zealand 2016\n",
      "Lidar was captured for Land Information New Zealand by Aerial Surveys in November 2016. The dataset was generated by Aerial Surveys and their subcontractors. The survey area includes Marsden Point and the surrounding area. Data management and distribution is by Land Information New Zealand.\n",
      "--------------------------------------------------------------------------------------------------------------------------------------------------------------------------------------------------------\n",
      "Distance =  0.7311078986510137 Neighbor idx =  134\n",
      "Canterbury, New Zealand 2018-2019\n",
      "Lidar was captured for Environment Canterbury Regional Council by Aerial Surveys New Zealand in March 2018 through to May 2019. The dataset was generated by Aerial Surveys New Zealand and their subcontractors. The survey area includes Amuri Plain, Ashburton, Fairlie Foothills, Pegasus, Motunau, Selwyn North, Selwyn South and Waimate. Data management and distribution is by Land Information New Zeal\n",
      "--------------------------------------------------------------------------------------------------------------------------------------------------------------------------------------------------------\n",
      "========================================================================================================================================================================================================\n",
      "\n",
      "Input text =  California housing \n",
      "\n",
      "Distance =  0.7222151549783433 Neighbor idx =  129\n",
      "Merced, CA: Origin and Evolution of the Mima Mounds\n",
      "NCALM Seed Project. PI: Sarah Reed, University of California, Berkeley. This lidar survey was conducted on Sunday, September 17, 2006 on a 33 square kilometer polygon northeast of Merced in Merced County, California.  These data were collected to investigate the origin and evolution of Mima mounds in California's Central Valley.\n",
      "--------------------------------------------------------------------------------------------------------------------------------------------------------------------------------------------------------\n",
      "Distance =  0.7222151549783433 Neighbor idx =  359\n",
      "Merced, CA: Origin and Evolution of the Mima Mounds\n",
      "NCALM Seed Project. PI: Sarah Reed, University of California, Berkeley. This lidar survey was conducted on Sunday, September 17, 2006 on a 33 square kilometer polygon northeast of Merced in Merced County, California.  These data were collected to investigate the origin and evolution of Mima mounds in California's Central Valley.\n",
      "--------------------------------------------------------------------------------------------------------------------------------------------------------------------------------------------------------\n",
      "Distance =  0.7804319924949502 Neighbor idx =  314\n",
      "South Fork Eel River, CA Watershed Morphology\n",
      "NCALM Project. Mary Power, University of California Berkeley. The survey area consisted of a polygon located 20 kilometers east of Dos Rios, California. The survey took place over eight flights from 6/27/2004 to 6/30/2004.\n",
      "--------------------------------------------------------------------------------------------------------------------------------------------------------------------------------------------------------\n",
      "Distance =  0.7804319924949502 Neighbor idx =  232\n",
      "South Fork Eel River, CA Watershed Morphology\n",
      "NCALM Project. Mary Power, University of California Berkeley. The survey area consisted of a polygon located 20 kilometers east of Dos Rios, California. The survey took place over eight flights from 6/27/2004 to 6/30/2004.\n",
      "--------------------------------------------------------------------------------------------------------------------------------------------------------------------------------------------------------\n",
      "========================================================================================================================================================================================================\n",
      "\n",
      "Input text =  new madrid seismic zone \n",
      "\n",
      "Distance =  0.6004996071077049 Neighbor idx =  286\n",
      "Central U.S. ARRA Lidar, New Madrid Seismic Zone\n",
      "This dataset is intended for researchers interested in active tectonics and earthquake hazards research in the New Madrid Seismic Zone. The target areas were developed and defined by USGS scientists in collaboration with colleagues working in this region. The target areas are: the Blytheville Arch, the Meeman-Shelby lineament, the Reelfoot scarp and the northern New Madrid area. The data collectio\n",
      "--------------------------------------------------------------------------------------------------------------------------------------------------------------------------------------------------------\n",
      "Distance =  0.6004996071077049 Neighbor idx =  400\n",
      "Central U.S. ARRA Lidar, New Madrid Seismic Zone\n",
      "This dataset is intended for researchers interested in active tectonics and earthquake hazards research in the New Madrid Seismic Zone. The target areas were developed and defined by USGS scientists in collaboration with colleagues working in this region. The target areas are: the Blytheville Arch, the Meeman-Shelby lineament, the Reelfoot scarp and the northern New Madrid area. The data collectio\n",
      "--------------------------------------------------------------------------------------------------------------------------------------------------------------------------------------------------------\n",
      "Distance =  0.8295725353504988 Neighbor idx =  487\n",
      "New Madrid Seismic Zone\n",
      "The New Madrid Seismic Zone (NMSZ) has been responsible for producing some of the largest intraplate earthquakes on record (Tuttle et al., 2002). Paleoseismologic studies of sand blows and the Reelfoot fault show that earthquakes occurred in the last 4000 years at intervals of approximately 400-600 years (Kelson et al., 1995; Tuttle et al., 2002; Holbrook et al., 2006). The 1811-1812 NMSZ sequence\n",
      "--------------------------------------------------------------------------------------------------------------------------------------------------------------------------------------------------------\n",
      "Distance =  0.8766571303555153 Neighbor idx =  550\n",
      "Durham, NH: Hyporheic Zone Extent and Exchange in a Coastal Stream\n",
      "NCALM Seed Project PI: Danna Truslow, University of New Hampshire. The survey area is an irregular polygon approximately 16 km West of Portsmouth, NH and enclosing 42.5 square kilometers. The data were collected to study hyporheic zone extent and exchange in a coastal New Hampshire stream using heat as a tracer.\n",
      "--------------------------------------------------------------------------------------------------------------------------------------------------------------------------------------------------------\n",
      "========================================================================================================================================================================================================\n",
      "\n"
     ]
    }
   ],
   "source": [
    "input_texts = [\"New Zeland lidar data\", \"California housing\", \"new madrid seismic zone\"]\n",
    "input_features = vec.transform(input_texts)\n",
    "\n",
    "D, N = knn.kneighbors(input_features, n_neighbors=4, return_distance=True)\n",
    "\n",
    "for input_text, distances, neighbors in zip(input_texts, D, N):\n",
    "    print(\"Input text = \", input_text[:200], \"\\n\")\n",
    "    for dist, neighbor_idx in zip(distances, neighbors):\n",
    "        print(\"Distance = \", dist, \"Neighbor idx = \", neighbor_idx)\n",
    "        print(gldf.name[neighbor_idx])\n",
    "        print(gldf.description[neighbor_idx][:400])\n",
    "        print(\"-\"*200)\n",
    "    print(\"=\"*200)\n",
    "    print()"
   ]
  },
  {
   "cell_type": "code",
   "execution_count": null,
   "metadata": {},
   "outputs": [],
   "source": []
  }
 ],
 "metadata": {
  "colab": {
   "collapsed_sections": [
    "Zq_3lQ2VS-5p"
   ],
   "name": "WHOITextClustering.ipynb",
   "provenance": []
  },
  "kernelspec": {
   "display_name": "Python 3",
   "language": "python",
   "name": "python3"
  },
  "language_info": {
   "codemirror_mode": {
    "name": "ipython",
    "version": 3
   },
   "file_extension": ".py",
   "mimetype": "text/x-python",
   "name": "python",
   "nbconvert_exporter": "python",
   "pygments_lexer": "ipython3",
   "version": "3.8.6"
  }
 },
 "nbformat": 4,
 "nbformat_minor": 4
}