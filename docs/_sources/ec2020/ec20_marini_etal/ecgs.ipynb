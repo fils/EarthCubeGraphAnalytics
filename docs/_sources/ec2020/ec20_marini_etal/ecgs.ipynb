{
 "cells": [
  {
   "cell_type": "markdown",
   "metadata": {},
   "source": [
    "# Semantic Annotation of Data using JSON Linked Data\n",
    "\n",
    "Luigi Marini (lmarini@illinois.edu), Diego Calderon (diegoac2@illinois.edu), Praveen Kumar (kumar1@illinois.edu)\n",
    "\n",
    "University of Illinois at Urbana-Champaign"
   ]
  },
  {
   "cell_type": "markdown",
   "metadata": {},
   "source": [
    "## Abstract\n",
    "\n",
    "The Earthcube Geosemantics Framework (https://ecgs.ncsa.illinois.edu/) developed a prototype of a decentralized framework that combines the Linked Data and RESTful web services to annotate, connect, integrate, and reason about integration of geoscience resources. The framework allows the semantic enrichment of web resources and semantic mediation among heterogeneous geoscience resources, such as models and data. \n",
    "\n",
    "This notebook provides examples on how the Semantic Annotation Service can be used to manage linked controlled vocabularies using JSON Linked Data (JSON-LD), including how to query the built-in RDF graphs for existing linked standard vocabularies based on the Community Surface Dynamics Modeling System (CSDMS), Observations Data Model (ODM2) and Unidata udunits2 vocabularies, how to query build-in crosswalks between CSDMS and ODM2 vocabularies using SKOS, and how to add new linked vocabularies to the service. JSON-LD based definitions provided by these endpoints will be used to annotate sample data available within the IML Critical Zone Observatory data repository using the Clowder Web Service API (https://data.imlczo.org/). By supporting JSON-LD, the Semantic Annotation Service and the Clowder framework provide examples on how portable and semantically defined metadata can be used to better annotate data across repositories and services."
   ]
  },
  {
   "cell_type": "markdown",
   "metadata": {},
   "source": [
    "## Table of contents\n",
    "1. [Introduction](#Introduction)\n",
    "2. [Basic requirements](#Basic-Requirements)\n",
    "3. [Geosemantics Integration Service](#Geosemantics-Integration-Service-(GSIS))\n",
    "4. [RDF Graphs](#RDF-Graphs)\n",
    "5. [Standard Vocabularies](#Standard-Vocabularies)\n",
    "6. [List of CSDMS Standard Names and ODM2 as JSON Arrays](#List-of-CSDMS-Standard-Names-and-ODM2-as-JSON-Arrays)\n",
    "7. [Crosswalks Between Standard Vocabularies](#Crosswalks-Between-Standard-Vocabularies)\n",
    "8. [Units](#Units)\n",
    "9. [Temporal Annotation](#Temporal-Annotation)\n",
    "10. [Annotating Data in the IMLCZO Data Management System](#Annotating-Data-in-the-IMLCZO-Data-Management-System)\n",
    "11. [Setting API key and request headers](#Setting-API-key-and-request-headers)\n",
    "12. [Search by generic search query](#Search-by-generic-search-query)\n",
    "13. [Search by metadata field](#Search-by-metadata-field)\n",
    "14. [Create new dataset](#Create-new-dataset)\n",
    "15. [Upload file to new dataset](#Upload-file-to-new-dataset)\n",
    "16. [Add metadata to new file](#Add-metadata-to-new-file)\n",
    "17. [Matching Models with Data](#Matching-Models-with-Data)\n",
    "18. [Conclusions](#Conclusions)\n",
    "19. [References](#References)\n",
    "20. [License](#License)"
   ]
  },
  {
   "cell_type": "markdown",
   "metadata": {},
   "source": [
    "## Introduction\n",
    "\n",
    "We face many challenges in the process of extracting meaningful information from data. Frequently, these obstacle  compel scientists to perform the integration of models with data manually. Manual integration becomes exponentially difficult when a user aims to integrate long-tail data (data collected by individual researchers or small research groups) and long-tail models (models developed by individuals or small modeling communities). We focus on these long-tail resources because despite their often-narrow scope, they have significant impacts in scientific studies and present an opportunity for addressing critical gaps through automated integration. The goal of the Goesemantics Framework is to provide a framework rooted in semantic techniques and approaches to support “long-tail” models and data integration.\n",
    "\n",
    "The Linked Data paradigm emerged in the context of Semantic Web technologies for publishing and sharing data over the Web. It connects related individual Web resources in a Graph database, where resources represent the graph nodes, and an edge connects a pair of nodes. Publishing and linking scientific resources using Semantic Web technologies require that the user community follows the three principles of Linked Data:\n",
    "\n",
    "1.  Each resource needs to be represented using a unique Uniform Resource Identifier (URI), which consists of: (i) A Uniform Resource Locator (URL) to define the server path over the Web, and (ii) A Uniform Resource Name (URN) to describe the exact name of the resource.\n",
    "\n",
    "2. The relationships between resources are described using the triple format, where a subject S has a predicate P with an object O. A predicate is either an undirected relationship (bi-directional), where it connects two entities in both ways or a directed relationship (uni-directional), where the presence of a relationship between two entities in one direction does not imply the presence of a reverse relationship. The triple format is the structure unit for the Linked Data system. \n",
    "\n",
    "3. The HyperText Transfer Protocol (HTTP) is used as a universal access mechanism for resources on the Web. \n",
    "\n",
    "For more information about linked data, please visit https://www.w3.org/standards/semanticweb/data.\n",
    "\n",
    "The Geosemantics Integration Service (GSIS) is a playground to show a lot of these principles in practice with respect to Earth science. Below we show many of the endpoints available in the GSIS and how they can enable new ways to manage metadata about data and models. By virtue of leveraging Semntic Web Technologies, the approaches below are compatible with other efforts such as the [ESIP science-on-schema](https://github.com/ESIPFed/science-on-schema.org) effort. Some of the endpoints shown below are currently used in production, others are proof of concept developement. The goal of this notebook is to show what is possible when using Linked Data approaches."
   ]
  },
  {
   "cell_type": "markdown",
   "metadata": {},
   "source": [
    "## Basic Requirements\n",
    "\n",
    "We will be interacting with two web services. The first is the Geosemantics Integration Service (GSIS) available at [http://hcgs.ncsa.illinois.edu](http://hcgs.ncsa.illinois.edu). This service provides support for standandard vocabularies and methods for transforming typical strings used for tracking time, space and physical variables into well formed Linked Data documents. The second service is the [NSF Intensively Managed Landscape Critical Zone Observatory](http://criticalzone.org/iml/) data management system (https://data.imlczo.org/). We will be retrieving data from it and uploading data and metadata back to it using the Clowder web service API. Clowder is a customizable and scalable data management system to support any data format (Marini et al. 2018). It is under active development and deployed for a variety of research projects. For more information about Clowder please visit https://clowderframework.org/. \n",
    "\n",
    "We first setup some basic requirements used throughout the notebook. We use the ubiqutous [Requests](https://requests.readthedocs.io/) Python library to intereact with both APIs."
   ]
  },
  {
   "cell_type": "code",
   "execution_count": 1,
   "metadata": {},
   "outputs": [],
   "source": [
    "import requests\n",
    "import json\n",
    "\n",
    "gsis_host = 'https://ecgs.ncsa.illinois.edu'\n",
    "\n",
    "clowder_host = 'https://data.imlczo.org/clowder'"
   ]
  },
  {
   "cell_type": "markdown",
   "metadata": {},
   "source": [
    "## Geosemantics Integration Service (GSIS)\n",
    "\n",
    "Since geospatial data comes in many formats, from shapefiles to geotiffs to comma-delimited text files, it is often helpfull to annotate the files with portable metadata that can be used to identify what each files contains. For geospatial data the temporal, spatial, and physical properties dimensions are important and often used to search over a large collection of data. The Geosemantics Integration Service (GSIS) provides a series of endpoints to simplify annotating geospatial data. It includes temporal endpoints so that generic formats for date and times can be translated to well formted JSON-LD formats (Elag et al. 2015). It includes the ability to store standard vocabularies as generic RDF graphs and retrieve those as simple JSON documents for easy integration in external services (for example Clowder). It also includes the ability to make links between terms from two different standard vocabularies using SKOS and OWN same as predicates."
   ]
  },
  {
   "cell_type": "markdown",
   "metadata": {},
   "source": [
    "### RDF Graphs\n",
    "\n",
    "All information stored in the GSIS is stored in the form of RDF graphs using [Apache Jena](https://jena.apache.org/). The following endpoints list all know RDF graphs and let the client retrieve each graph as JSON-LD. The content of these graphs can vary greatly, from standardad vocabularies to definitions of computational models. For a full list of methods please see the documentation available at http://hcgs.ncsa.illinois.edu/. New RDF graphs can be added to the system using private HTTP POST endpoints which accept RDF graphs serialized as JSON-LD or Turtle format."
   ]
  },
  {
   "cell_type": "code",
   "execution_count": 2,
   "metadata": {},
   "outputs": [
    {
     "data": {
      "text/plain": [
       "{'graph_names': ['csdms',\n",
       "  'odm2-vars',\n",
       "  'udunits2-base',\n",
       "  'udunits2-derived',\n",
       "  'udunits2-accepted',\n",
       "  'udunits2-prefix',\n",
       "  'google-unit',\n",
       "  'model-2',\n",
       "  'model-3',\n",
       "  'data-1',\n",
       "  'data-2',\n",
       "  'data-3',\n",
       "  'variable_name_crosswalk',\n",
       "  'variable_name_crosswalk-owl',\n",
       "  'variable_name_crosswalk-skos',\n",
       "  'model_test',\n",
       "  'model_test11',\n",
       "  'config_vars.ttl',\n",
       "  'model-x',\n",
       "  'Info',\n",
       "  'Inf',\n",
       "  'demo-model',\n",
       "  'csv-mappings',\n",
       "  'models_graph9d7d400f53864989a05d3ae539f30a78',\n",
       "  'models_graph37baec3114d74ca6abd72cce75f966db',\n",
       "  'models_graphe604316f14334985aaf4ebd6fe220e77',\n",
       "  'models_graph26e29f5026664f11b244072bf6956f74']}"
      ]
     },
     "execution_count": 2,
     "metadata": {},
     "output_type": "execute_result"
    }
   ],
   "source": [
    "# Get a lists of the names of all graphs in the Knowledge base\n",
    "r = requests.get(f\"{gsis_host}/gsis/listGraphNames\")\n",
    "r.json()"
   ]
  },
  {
   "cell_type": "code",
   "execution_count": 3,
   "metadata": {},
   "outputs": [
    {
     "data": {
      "text/plain": [
       "[{'@id': 'csn:air__dielectric_constant',\n",
       "  '@type': 'csn:name',\n",
       "  'csn:base_object': 'air',\n",
       "  'csn:base_quantity': 'constant',\n",
       "  'csn:object_fullname': 'air',\n",
       "  'csn:object_part': 'air',\n",
       "  'csn:quantity_fullname': 'dielectric_constant',\n",
       "  'csn:quantity_part': ['dielectric', 'constant']},\n",
       " {'@id': 'csn:air__dynamic_shear_viscosity',\n",
       "  '@type': 'csn:name',\n",
       "  'csn:base_object': 'air',\n",
       "  'csn:base_quantity': 'viscosity',\n",
       "  'csn:object_fullname': 'air',\n",
       "  'csn:object_part': 'air',\n",
       "  'csn:quantity_fullname': 'dynamic_shear_viscosity',\n",
       "  'csn:quantity_part': ['dynamic', 'shear', 'viscosity']},\n",
       " {'@id': 'csn:air__dynamic_volume_viscosity',\n",
       "  '@type': 'csn:name',\n",
       "  'csn:base_object': 'air',\n",
       "  'csn:base_quantity': 'viscosity',\n",
       "  'csn:object_fullname': 'air',\n",
       "  'csn:object_part': 'air',\n",
       "  'csn:quantity_fullname': 'dynamic_volume_viscosity',\n",
       "  'csn:quantity_part': ['dynamic', 'viscosity', 'volume']},\n",
       " {'@id': 'csn:air__kinematic_shear_viscosity',\n",
       "  '@type': 'csn:name',\n",
       "  'csn:base_object': 'air',\n",
       "  'csn:base_quantity': 'viscosity',\n",
       "  'csn:object_fullname': 'air',\n",
       "  'csn:object_part': 'air',\n",
       "  'csn:quantity_fullname': 'kinematic_shear_viscosity',\n",
       "  'csn:quantity_part': ['shear', 'viscosity', 'kinematic']},\n",
       " {'@id': 'csn:air__kinematic_volume_viscosity',\n",
       "  '@type': 'csn:name',\n",
       "  'csn:base_object': 'air',\n",
       "  'csn:base_quantity': 'viscosity',\n",
       "  'csn:object_fullname': 'air',\n",
       "  'csn:object_part': 'air',\n",
       "  'csn:quantity_fullname': 'kinematic_volume_viscosity',\n",
       "  'csn:quantity_part': ['viscosity', 'volume', 'kinematic']}]"
      ]
     },
     "execution_count": 3,
     "metadata": {},
     "output_type": "execute_result"
    }
   ],
   "source": [
    "# List the content of the  Graph (for example, CSDMS Standard Names)\n",
    "graph = 'csdms'\n",
    "r = requests.get(f\"{gsis_host}/gsis/read?graph={graph}\")\n",
    "r.json().get('@graph')[0:5] # We just show the top 10 results, to see all results remove the slice operator [0:5]"
   ]
  },
  {
   "cell_type": "markdown",
   "metadata": {},
   "source": [
    "### Standard Vocabularies\n",
    "Two RDF graphs in the GSIS store two external standard vocabularies in RDF. The first one is the [CSDMS Standard Terms (CSN)](https://csdms.colorado.edu/wiki/CSDMS_Standard_Names) (Peckham et al. 2014). The second is the [ODM2 Variable Name Vocabulary](http://vocabulary.odm2.org/variablename/) (Horsburgh et al. 2016). To make it easier to query these RDF by graphs, the GSIS provide simplified methods to search across standard vocabularies by label and look attributes of a specific term in a vocabulary."
   ]
  },
  {
   "cell_type": "code",
   "execution_count": 4,
   "metadata": {},
   "outputs": [
    {
     "data": {
      "text/plain": [
       "['csn:earth_surface_wind__range_of_speed',\n",
       " 'csn:land_surface_wind__reference_height_speed',\n",
       " 'csn:land_surface_wind__speed_reference_height',\n",
       " 'csn:projectile_origin_wind__speed',\n",
       " 'odm2:windGustSpeed',\n",
       " 'odm2:windSpeed']"
      ]
     },
     "execution_count": 4,
     "metadata": {},
     "output_type": "execute_result"
    }
   ],
   "source": [
    "# Search standard vocabularies by search query\n",
    "query = 'wind speed'\n",
    "r = requests.get(f'{gsis_host}/gsis/sas/vars/list?term={query}')\n",
    "r.json()"
   ]
  },
  {
   "cell_type": "code",
   "execution_count": 5,
   "metadata": {},
   "outputs": [
    {
     "data": {
      "text/plain": [
       "{'name': 'air__dynamic_shear_viscosity',\n",
       " 'type': 'http://ecgs.ncsa.illinois.edu/2015/csn/name',\n",
       " 'object_fullname': 'air',\n",
       " 'quantity_fullname': 'dynamic_shear_viscosity',\n",
       " 'base_object': 'air',\n",
       " 'base_quantity': 'viscosity',\n",
       " 'object_part': ['air'],\n",
       " 'quantity_part': ['dynamic', 'shear', 'viscosity']}"
      ]
     },
     "execution_count": 5,
     "metadata": {},
     "output_type": "execute_result"
    }
   ],
   "source": [
    "# Get all properties of a given CSDMS Standard Name from a specific graph\n",
    "graph = 'csdms'\n",
    "name = 'air__dynamic_shear_viscosity'\n",
    "r = requests.get(f\"{gsis_host}/gsis/CSNqueryName?graph={graph}&name={name}\")\n",
    "r.json()"
   ]
  },
  {
   "cell_type": "markdown",
   "metadata": {},
   "source": [
    "### List of CSDMS Standard Names and ODM2 as JSON Arrays\n",
    "\n",
    "To simplify clients' ability to parse these standard vocabularies, the GSIS provides ways to list all unique identifiers from both vocabularies as play JSON arrays. This for example is used by Clowder to show a list of standard term for each vocabulary in its interface. It is worth noting that Clowder lets users define these lists through its GUI both as local list, but more importantly as remote JSON endpoints so that, as lists are updated, the latest version is always shown to the user. Here is an example from the IMLCZO instance.\n",
    "\n",
    "This is what a user sees when manually adding metadata to a file or dataset. The list is dynamically loaded at run time.\n",
    "\n",
    "![Add metadata](img/metadata-add.png)\n",
    "\n",
    "This is what an adminstrator of the system or a data sharing space see when adding more options to what users can defined from the GUI. This is only for metadata added by users from the GUI. Later we will show how to programmatically add any type of metadata to a file or dataset using the web service API.\n",
    "\n",
    "![Define metadata](img/metadata-define.png)\n",
    "\n"
   ]
  },
  {
   "cell_type": "markdown",
   "metadata": {},
   "source": [
    "The widget listing options above is populated by calling the endpoints below. The `Definitions URL` is how the system is aware of which external endpoint to call. Any service providing the same interface can be utilized."
   ]
  },
  {
   "cell_type": "code",
   "execution_count": 6,
   "metadata": {},
   "outputs": [
    {
     "name": "stdout",
     "output_type": "stream",
     "text": [
      "Found 2573 terms. Showing top 20 results:\n"
     ]
    },
    {
     "data": {
      "text/plain": [
       "['air__dielectric_constant',\n",
       " 'air__dynamic_shear_viscosity',\n",
       " 'air__dynamic_volume_viscosity',\n",
       " 'air__kinematic_shear_viscosity',\n",
       " 'air__kinematic_volume_viscosity',\n",
       " 'air__volume-specific_isochoric_heat_capacity',\n",
       " 'air_helium-plume__richardson_number',\n",
       " 'air_radiation~visible__speed',\n",
       " 'air_water~vapor__dew_point_temperature',\n",
       " 'air_water~vapor__saturated_partial_pressure',\n",
       " 'aircraft__flight_duration',\n",
       " 'airfoil__drag_coefficient',\n",
       " 'airfoil__lift_coefficient',\n",
       " 'airfoil_curve~enclosing__circulation',\n",
       " 'airplane__altitude',\n",
       " 'airplane__mach_number',\n",
       " 'airplane_wing__span',\n",
       " 'air~dry__mass-specific_gas_constant',\n",
       " 'air~dry_water~vapor__gas_constant_ratio',\n",
       " 'aluminum__mass-specific_isobaric_heat_capacity']"
      ]
     },
     "execution_count": 6,
     "metadata": {},
     "output_type": "execute_result"
    }
   ],
   "source": [
    "# Get the CSDMS Standard Names as a flat list.\n",
    "r = requests.get(f\"{gsis_host}/gsis/sas/sn/csn\")\n",
    "csn_terms = r.json()\n",
    "print(f'Found {len(csn_terms)} terms. Showing top 20 results:')\n",
    "csn_terms[0:20] # We just show the top 20 results, to see all results remove the slice operator [0:20]"
   ]
  },
  {
   "cell_type": "code",
   "execution_count": 7,
   "metadata": {},
   "outputs": [
    {
     "name": "stdout",
     "output_type": "stream",
     "text": [
      "Found 792 terms. Showing top 20 results:\n"
     ]
    },
    {
     "data": {
      "text/plain": [
       "['19_Hexanoyloxyfucoxanthin',\n",
       " '1_1_1_Trichloroethane',\n",
       " '1_1_2_2_Tetrachloroethane',\n",
       " '1_1_2_Trichloroethane',\n",
       " '1_1_Dichloroethane',\n",
       " '1_1_Dichloroethene',\n",
       " '1_2_3_Trimethylbenzene',\n",
       " '1_2_4_5_Tetrachlorobenzene',\n",
       " '1_2_4_Trichlorobenzene',\n",
       " '1_2_4_Trimethylbenzene',\n",
       " '1_2_Dibromo_3_Chloropropane',\n",
       " '1_2_Dichlorobenzene',\n",
       " '1_2_Dichloroethane',\n",
       " '1_2_Dichloropropane',\n",
       " '1_2_Dimethylnaphthalene',\n",
       " '1_2_Dinitrobenzene',\n",
       " '1_2_Diphenylhydrazine',\n",
       " '1_3_5_Trimethylbenzene',\n",
       " '1_3_Dichlorobenzene',\n",
       " '1_3_Dimethyladamantane']"
      ]
     },
     "execution_count": 7,
     "metadata": {},
     "output_type": "execute_result"
    }
   ],
   "source": [
    "# Get the ODM2 Variable Names as a flat list.\n",
    "r = requests.get(f\"{gsis_host}/gsis/sas/sn/odm2\")\n",
    "odm2_terms = r.json()\n",
    "print(f'Found {len(odm2_terms)} terms. Showing top 20 results:')\n",
    "r.json()[0:20] # We just show the top 20 results, to see all results remove the slice operator [0:20]"
   ]
  },
  {
   "cell_type": "markdown",
   "metadata": {},
   "source": [
    "With some simple Python we can search specific substrings from these lists."
   ]
  },
  {
   "cell_type": "code",
   "execution_count": 8,
   "metadata": {},
   "outputs": [
    {
     "data": {
      "text/plain": [
       "['air_water~vapor__dew_point_temperature',\n",
       " 'atmosphere_air__anomaly_of_temperature',\n",
       " 'atmosphere_air__azimuth_angle_of_gradient_of_temperature',\n",
       " 'atmosphere_air__east_derivative_of_temperature',\n",
       " 'atmosphere_air__elevation_angle_of_gradient_of_temperature',\n",
       " 'atmosphere_air__equivalent_potential_temperature',\n",
       " 'atmosphere_air__equivalent_temperature',\n",
       " 'atmosphere_air__increment_of_temperature',\n",
       " 'atmosphere_air__magnitude_of_gradient_of_temperature',\n",
       " 'atmosphere_air__north_derivative_of_temperature',\n",
       " 'atmosphere_air__potential_temperature',\n",
       " 'atmosphere_air__temperature',\n",
       " 'atmosphere_air__temperature_dry_adiabatic_lapse_rate',\n",
       " 'atmosphere_air__temperature_environmental_lapse_rate',\n",
       " 'atmosphere_air__temperature_lapse_rate',\n",
       " 'atmosphere_air__temperature_saturated_adiabatic_lapse_rate',\n",
       " 'atmosphere_air__x_derivative_of_temperature',\n",
       " 'atmosphere_air__y_derivative_of_temperature',\n",
       " 'atmosphere_air__z_derivative_of_temperature',\n",
       " 'atmosphere_air_water~vapor__bubble_point_temperature',\n",
       " 'atmosphere_air_water~vapor__dew_point_temperature',\n",
       " 'atmosphere_air_water~vapor__frost_point_temperature',\n",
       " 'atmosphere_air_water~vapor__virtual_potential_temperature',\n",
       " 'atmosphere_air_water~vapor__virtual_temperature',\n",
       " 'atmosphere_bottom_air__temperature',\n",
       " 'atmosphere_bottom_air_water~vapor__dew_point_temperature',\n",
       " 'atmosphere_bottom_air_water~vapor__frost_point_temperature',\n",
       " 'atmosphere_top_air__temperature',\n",
       " 'atmosphere_water~vapor__dew_point_temperature',\n",
       " 'atmosphere_water~vapor__frost_point_temperature',\n",
       " 'channel_bottom_water__temperature',\n",
       " 'channel_water__temperature',\n",
       " 'channel_water_surface_air__temperature',\n",
       " 'channel_water_surface_water__temperature',\n",
       " 'chocolate__melting_point_temperature',\n",
       " 'earth_black-body__temperature',\n",
       " 'earth_equator__average_temperature',\n",
       " 'earth_interior__down_z_derivative_of_temperature',\n",
       " 'earth_surface__average_temperature',\n",
       " 'earth_surface__range_of_diurnal_temperature',\n",
       " 'glacier_bed__down_z_derivative_of_temperature',\n",
       " 'glacier_bottom_ice__temperature',\n",
       " 'glacier_ice__azimuth_angle_of_gradient_of_temperature',\n",
       " 'glacier_ice__depression_of_melting_point_temperature',\n",
       " 'glacier_ice__down_derivative_of_temperature',\n",
       " 'glacier_ice__east_derivative_of_temperature',\n",
       " 'glacier_ice__elevation_angle_of_gradient_of_temperature',\n",
       " 'glacier_ice__magnitude_of_gradient_of_temperature',\n",
       " 'glacier_ice__melting_point_temperature',\n",
       " 'glacier_ice__north_derivative_of_temperature',\n",
       " 'glacier_ice__pressure_melting_point_temperature',\n",
       " 'glacier_ice__temperature',\n",
       " 'glacier_ice__x_derivative_of_temperature',\n",
       " 'glacier_ice__y_derivative_of_temperature',\n",
       " 'glacier_ice__z_derivative_of_temperature',\n",
       " 'glacier_top__temperature',\n",
       " 'glacier_top_ice__temperature',\n",
       " 'glacier_top_ice__time_derivative_of_temperature',\n",
       " 'glacier_top_surface__temperature',\n",
       " 'hydrometeor__temperature',\n",
       " 'ice__melting_point_temperature',\n",
       " 'iron__melting_point_temperature',\n",
       " 'land_surface__anomaly_of_temperature',\n",
       " 'land_surface__temperature',\n",
       " 'land_surface_air__temperature',\n",
       " 'land_surface~10m-above_air__temperature',\n",
       " 'sea_bottom_water__temperature',\n",
       " 'sea_ice__depression_of_melting_point_temperature',\n",
       " 'sea_ice__melting_point_temperature',\n",
       " 'sea_ice_bottom_water__temperature',\n",
       " 'sea_ice_surface_air__temperature',\n",
       " 'sea_surface_air-vs-water__difference_of_temperature',\n",
       " 'sea_surface_air__reference_temperature',\n",
       " 'sea_surface_air__temperature',\n",
       " 'sea_surface_water__anomaly_of_temperature',\n",
       " 'sea_surface_water__temperature',\n",
       " 'sea_water__azimuth_angle_of_gradient_of_temperature',\n",
       " 'sea_water__east_derivative_of_temperature',\n",
       " 'sea_water__elevation_angle_of_gradient_of_temperature',\n",
       " 'sea_water__magnitude_of_gradient_of_temperature',\n",
       " 'sea_water__north_derivative_of_temperature',\n",
       " 'sea_water__potential_temperature',\n",
       " 'sea_water__temperature',\n",
       " 'sea_water__time_average_of_square_of_potential_temperature',\n",
       " 'sea_water__time_derivative_of_temperature',\n",
       " 'sea_water__x_derivative_of_temperature',\n",
       " 'sea_water__y_derivative_of_temperature',\n",
       " 'sea_water__z_derivative_of_temperature',\n",
       " 'snow__temperature',\n",
       " 'snow__threshold_of_degree-day-temperature',\n",
       " 'snowpack__degree-day_threshold_temperature',\n",
       " 'snowpack__diurnal_max_of_temperature',\n",
       " 'snowpack__diurnal_min_of_temperature',\n",
       " 'snowpack__diurnal_range_of_temperature',\n",
       " 'snowpack__mean_of_temperature',\n",
       " 'snowpack__time_derivative_of_temperature',\n",
       " 'snowpack_bottom__temperature',\n",
       " 'snowpack_top__temperature',\n",
       " 'snowpack_top_air__temperature',\n",
       " 'soil__reference_depth_temperature',\n",
       " 'soil__temperature',\n",
       " 'soil__temperature_reference_depth',\n",
       " 'water__boiling_point_temperature',\n",
       " 'water__freezing_point_temperature']"
      ]
     },
     "execution_count": 8,
     "metadata": {},
     "output_type": "execute_result"
    }
   ],
   "source": [
    "[i for i in csn_terms if 'temperature' in i]"
   ]
  },
  {
   "cell_type": "markdown",
   "metadata": {},
   "source": [
    "### Crosswalks Between Standard Vocabularies\n",
    "\n",
    "With so many standard vocabularies available, it is helpful to defined equivalency between terms from separate vocabularies. To this end, the GSIS provides the ability to establish mappings between terms in different graphs using the `skos:sameAs` predicate. The user can the query this graph of relationships using the following endpoint."
   ]
  },
  {
   "cell_type": "code",
   "execution_count": 9,
   "metadata": {},
   "outputs": [
    {
     "data": {
      "text/plain": [
       "['http://csdms.colorado.edu/wiki/CSN_Searchable_List/land_surface_air_flow__speed',\n",
       " 'http://vocabulary.odm2.org/variablename/windSpeed',\n",
       " 'http://vocabulary.odm2.org/variablename/windGustSpeed']"
      ]
     },
     "execution_count": 9,
     "metadata": {},
     "output_type": "execute_result"
    }
   ],
   "source": [
    "# Given a term from one vocabulary, find equivalent ones in other vocabularies.\n",
    "var = 'http://vocabulary.odm2.org/variablename/windSpeed'\n",
    "r = requests.get(f'{gsis_host}/gsis/var/sameAs/skos?varName={var}')\n",
    "r.json()"
   ]
  },
  {
   "cell_type": "markdown",
   "metadata": {},
   "source": [
    "### Units\n",
    "\n",
    "Physical variables are not the only type of standard vocabularies the GSIS stores. Following are examples of two different lists of standard units imported in the GSIS, [Unidata udunits2](https://www.unidata.ucar.edu/software/udunits/) and [Google Units](https://support.google.com/websearch/answer/3284611?hl=en)."
   ]
  },
  {
   "cell_type": "code",
   "execution_count": 10,
   "metadata": {},
   "outputs": [
    {
     "data": {
      "text/plain": [
       "['ampere',\n",
       " 'arc_degree',\n",
       " 'arc_minute',\n",
       " 'arc_second',\n",
       " 'candela',\n",
       " 'coulomb',\n",
       " 'day',\n",
       " 'degree_Celsius',\n",
       " 'electronvolt',\n",
       " 'farad',\n",
       " 'gram',\n",
       " 'gray',\n",
       " 'henry',\n",
       " 'hertz',\n",
       " 'hour',\n",
       " 'joule',\n",
       " 'katal',\n",
       " 'kelvin',\n",
       " 'kilogram',\n",
       " 'liter']"
      ]
     },
     "execution_count": 10,
     "metadata": {},
     "output_type": "execute_result"
    }
   ],
   "source": [
    "# Get the list of udunits2 units in JSON format.\n",
    "r = requests.get(f\"{gsis_host}/gsis/sas/unit/udunits2\")\n",
    "r.json()[0:20] # We just show the top 20 results, to see all results remove the slice operator [0:20]"
   ]
  },
  {
   "cell_type": "code",
   "execution_count": 11,
   "metadata": {},
   "outputs": [
    {
     "data": {
      "text/plain": [
       "['acre',\n",
       " 'acre-foot',\n",
       " 'Algerian dinar',\n",
       " 'ampere',\n",
       " 'ampere hour',\n",
       " 'amu',\n",
       " 'arc minute',\n",
       " 'arc second',\n",
       " 'are',\n",
       " 'Argentine peso',\n",
       " 'Astronomical Unit',\n",
       " 'ATA pica',\n",
       " 'ATA point',\n",
       " 'atmosphere',\n",
       " 'atomic mass unit',\n",
       " 'Australian cent',\n",
       " 'Australian dollar',\n",
       " 'Bahrain dinar',\n",
       " \"baker's dozen\",\n",
       " 'bar']"
      ]
     },
     "execution_count": 11,
     "metadata": {},
     "output_type": "execute_result"
    }
   ],
   "source": [
    "## Get the list of Google units in JSON format.\n",
    "r = requests.get(gsis_host + \"/gsis/sas/unit/google\")\n",
    "r.json()[0:20] # We just show the top 20 results, to see all results remove the slice operator [0:20]"
   ]
  },
  {
   "cell_type": "markdown",
   "metadata": {},
   "source": [
    "### Temporal Annotation\n",
    "\n",
    "To convert from strings representing time to a more formal definition, the GSIS provides three endpoints to represent instant, interval, and time series. Time values are represented in UTC (Coordinated Universal Time) format. Times are expressed in local time, together with a time zone offset in hours and minutes. For more information about date and time formats, please visit https://www.w3.org/TR/NOTE-datetime."
   ]
  },
  {
   "cell_type": "markdown",
   "metadata": {},
   "source": [
    "#### Time Instant Annotation\n",
    "Query parameters: \n",
    "* **time** (string): time value in UTC format"
   ]
  },
  {
   "cell_type": "code",
   "execution_count": 12,
   "metadata": {},
   "outputs": [
    {
     "data": {
      "text/plain": [
       "{'@context': {'dc': 'http://purl.org/dc/elements/1.1/',\n",
       "  'dcterms': 'http://purl.org/dc/terms/',\n",
       "  'xsd': 'http://www.w3.org/2001/XMLSchema#',\n",
       "  'time': 'http://www.w3.org/2006/time#',\n",
       "  'tzont': 'http://www.w3.org/2006/timezone-us'},\n",
       " '@id': 'http://ecgs.ncsa.illinois.edu/time_instant',\n",
       " '@type': 'time:Instant',\n",
       " 'dc:date': \"yyyy-MM-dd'T'HH:mm:ssZ\",\n",
       " 'time:DateTimeDescription': {'time:year': '2014',\n",
       "  'time:month': '1',\n",
       "  'time:day': '1',\n",
       "  'tzont': '-09:00',\n",
       "  'time:hours': '8',\n",
       "  'time:minutes': '1',\n",
       "  'time:seconds': '1'}}"
      ]
     },
     "execution_count": 12,
     "metadata": {},
     "output_type": "execute_result"
    }
   ],
   "source": [
    "# Get a temporal annotation for a time instant in a JSON-LD format.\n",
    "time = '2014-01-01T08:01:01-09:00'\n",
    "r = requests.get(f\"{gsis_host}/gsis/sas/temporal?time={time}\")\n",
    "r.json()"
   ]
  },
  {
   "cell_type": "markdown",
   "metadata": {},
   "source": [
    "#### Time Interval Annotation\n",
    "Query parameters: \n",
    "* **beginning** (string): time value in UTC format.\n",
    "* **end** (string): time value in UTC format."
   ]
  },
  {
   "cell_type": "code",
   "execution_count": 13,
   "metadata": {},
   "outputs": [
    {
     "data": {
      "text/plain": [
       "{'@context': {'dc': 'http://purl.org/dc/elements/1.1/',\n",
       "  'dcterms': 'http://purl.org/dc/terms/',\n",
       "  'xsd': 'http://www.w3.org/2001/XMLSchema#',\n",
       "  'time': 'http://www.w3.org/2006/time#',\n",
       "  'tzont': 'http://www.w3.org/2006/timezone-us'},\n",
       " '@id': 'http://ecgs.ncsa.illinois.edu/time_interval',\n",
       " '@type': 'time:Interval',\n",
       " 'time:Duration': {'time:hasBeginning': {'dc:date': \"yyyy-MM-dd'T'HH:mm:ssZ\",\n",
       "   'time:DateTimeDescription': {'time:year': 2014,\n",
       "    'time:month': 1,\n",
       "    'time:day': 1,\n",
       "    'tzont': '-10:00',\n",
       "    'time:hours': 8,\n",
       "    'time:minutes': 1,\n",
       "    'time:seconds': 1}},\n",
       "  'time:hasEnd': {'dc:date': \"yyyy-MM-dd'T'HH:mm:ssZ\",\n",
       "   'time:DateTimeDescription': {'time:year': 2014,\n",
       "    'time:month': 12,\n",
       "    'time:day': 31,\n",
       "    'tzont': '-10:00',\n",
       "    'time:hours': 8,\n",
       "    'time:minutes': 1,\n",
       "    'time:seconds': 1}}}}"
      ]
     },
     "execution_count": 13,
     "metadata": {},
     "output_type": "execute_result"
    }
   ],
   "source": [
    "# Get a temporal annotation for a time interval in a JSON-LD format.\n",
    "beginning = '2014-01-01T08:01:01-10:00'\n",
    "end = '2014-12-31T08:01:01-10:00'\n",
    "r = requests.get(f\"{gsis_host}/gsis/sas/temporal?beginning={beginning}&end={end}\")\n",
    "r.json()"
   ]
  },
  {
   "cell_type": "markdown",
   "metadata": {},
   "source": [
    "#### Time Series Annotation\n",
    "Query parameters:\n",
    "* **beginning** (string): time value in UTC format.\n",
    "* **end** (string): time value in UTC format.\n",
    "* **interval** (float): time step."
   ]
  },
  {
   "cell_type": "code",
   "execution_count": 14,
   "metadata": {},
   "outputs": [
    {
     "data": {
      "text/plain": [
       "{'@context': {'dc': 'http://purl.org/dc/elements/1.1/',\n",
       "  'dcterms': 'http://purl.org/dc/terms/',\n",
       "  'xsd': 'http://www.w3.org/2001/XMLSchema#',\n",
       "  'time': 'http://www.w3.org/2006/time#',\n",
       "  'tzont': 'http://www.w3.org/2006/timezone-us'},\n",
       " '@id': 'http://ecgs.ncsa.illinois.edu/time_series',\n",
       " 'time:Duration': {'time:hasBeginning': {'dc:date': \"yyyy-MM-dd'T'HH:mm:ssZ\",\n",
       "   'time:DateTimeDescription': {'time:year': 2014,\n",
       "    'time:month': 1,\n",
       "    'time:day': 1,\n",
       "    'tzont': '-10:00',\n",
       "    'time:hours': 8,\n",
       "    'time:minutes': 1,\n",
       "    'time:seconds': 1}},\n",
       "  'time:hasEnd': {'dc:date': \"yyyy-MM-dd'T'HH:mm:ssZ\",\n",
       "   'time:DateTimeDescription': {'time:year': 2014,\n",
       "    'time:month': 3,\n",
       "    'time:day': 1,\n",
       "    'tzont': '-10:00',\n",
       "    'time:hours': 8,\n",
       "    'time:minutes': 1,\n",
       "    'time:seconds': 1}},\n",
       "  'time:temporalUnit': {'@type': 'time:unitSecond', '@value': 4}}}"
      ]
     },
     "execution_count": 14,
     "metadata": {},
     "output_type": "execute_result"
    }
   ],
   "source": [
    "# Get a temporal annotation for a time series in a JSON-LD format.\n",
    "beginning = '2014-01-01T08:01:01-10:00'\n",
    "end = '2014-03-01T08:01:01-10:00'\n",
    "interval = '4'\n",
    "r = requests.get(f\"{gsis_host}/gsis/sas/temporal?beginning={beginning}&end={end}&interval={interval}\")\n",
    "r.json()"
   ]
  },
  {
   "cell_type": "markdown",
   "metadata": {},
   "source": [
    "## Annotating Data in the IMLCZO Data Management System"
   ]
  },
  {
   "cell_type": "markdown",
   "metadata": {},
   "source": [
    "The [IMLCZO data management system](https://data.imlczo.org/) is comprised of two different services. A Clowder instance stores raw data streaming in from sensors, manually uploaded by users, collected in the lab or in the field. A Geodashboard including a subset of all the data collected and presented using interactive maps and graphs. We will focus on the Clowder service and how users can store arbitrary metadata as JSON-LD on datasets and files stored within. We will leverage the GSIS to make sure that our metadata is based on existing standards.\n",
    "\n",
    "Because we will be adding information to the Clowder instance, we will be required to register an account on the IMLCZO Clowder instance and create an API key and added to the cell below."
   ]
  },
  {
   "cell_type": "markdown",
   "metadata": {},
   "source": [
    "### Register an account on IMLCZO\n",
    "To register an account on the IMLCZO Clowder instance, please go to https://data.imlczo.org/clowder/signup and enter your email. You will receive an email from us. To activate your account, please reply back to the email saying you are using the ecgs jupyter notebook.\n",
    "Once your account is activated, you can generate an API key."
   ]
  },
  {
   "cell_type": "markdown",
   "metadata": {},
   "source": [
    "### Generate and use an API Key\n",
    "1. Login to https://data.imlczo.org/clowder/login and navigate to your profile (click on the icon in the top right and select \"View Profile\").\n",
    "![profile](img/profile.png)\n",
    "2. Add a name to your key and hit the \"Add\" button. In the example below, we created a test_key.\n",
    "![profile](img/added_key.png)\n",
    "3. Copy your key from step 2. \n",
    "4. If you are running this notebook in your machine, create a .env file in the same directory as this notebook and, using your favorite text editor, add the following line:\n",
    "```CLOWDER-KEY=paste-your-key-here```.\n",
    "5. If you are running the notebook in Binder, uncomment and paste the key in line 5, `%env CLOWDER-KEY=` in the block below. \n",
    "6. Run the following block.\n"
   ]
  },
  {
   "cell_type": "markdown",
   "metadata": {},
   "source": [
    "### Setting API key and request headers\n",
    "\n",
    "We use [python-dotenv](https://github.com/theskumar/python-dotenv) to set the Clowder API key for this session (you can also just manually set it in the notebook if you prefer). We also set the headers for most requests here and set the default content type to JSON and the Clowder API key to the one we just created. All calls will only provide information based on the user making the request. This means that the quality of the results could vary greatly. We will be creating a dataset and adding a file to it to make sure that the user can make the appropriate against this specific resource."
   ]
  },
  {
   "cell_type": "code",
   "execution_count": 15,
   "metadata": {},
   "outputs": [],
   "source": [
    "# Please create an API key as described above\n",
    "%load_ext dotenv\n",
    "%dotenv\n",
    "# If using Binder, uncomment and paste your key below\n",
    "# %env CLOWDER-KEY=paste your key here\n",
    "import os\n",
    "clowder_key = os.getenv(\"CLOWDER-KEY\")\n",
    "\n",
    "headers = {'Content-type': 'application/json', 'X-API-Key': clowder_key}"
   ]
  },
  {
   "cell_type": "markdown",
   "metadata": {},
   "source": [
    "### Search by generic search query"
   ]
  },
  {
   "cell_type": "markdown",
   "metadata": {},
   "source": [
    "We will start by searching the system for a generic string `precipitation`. Depending on your permissions you might be able to see around 11 results. The results of this query are based on any information available on the resource (dataset, file, or collection)."
   ]
  },
  {
   "cell_type": "code",
   "execution_count": 16,
   "metadata": {},
   "outputs": [
    {
     "data": {
      "text/plain": [
       "{'count': 10,\n",
       " 'size': 10,\n",
       " 'scanned_size': 240,\n",
       " 'results': [{'id': '596faa3b4f0c0b1c81fa42de',\n",
       "   'name': 'Trimpe East Site (Precip tipping bucket site)',\n",
       "   'description': 'Precipitation, temperature and solar radiation sensor (E-P) at Trimpe Farm on the east end of the farm. Installed on 7/11/17. Precip array was moved from the west end of the farm and relocated on the east end. Precip records before 7/11/17 can be found in the Trimpe West dataset.Trimpe East Deep Well has a decagon well transducer measuring hydraulic head and specific conductivity; the transducer has a depth of (6.2m - .73m well casing length = 5.47m). Trimpe East Shallow Well has a decagon well transducer measuring hydraulic head and specific conductivty; the transducer has a depth of (4.57m -1.3m well casing = 3.27m). These well files are denoted as Trimpe_E-W . ',\n",
       "   'created': 'Wed Jul 19 13:51:39 CDT 2017',\n",
       "   'thumbnail': '596fade24f0c0b1c81fa4414',\n",
       "   'authorId': '58b05a8c5792756cf490e664',\n",
       "   'spaces': ['5967f7004f0c0b1c81f8654a'],\n",
       "   'resource_type': 'dataset'},\n",
       "  {'id': '59444c82e4b001915f9624ee',\n",
       "   'collectionname': 'Precipitation',\n",
       "   'description': '',\n",
       "   'created': 'Fri Jun 16 16:24:18 CDT 2017',\n",
       "   'thumbnail': '58ff9534e4b0ed131b4cb554',\n",
       "   'authorId': '587e90a7a3ad2109e72c8651',\n",
       "   'resource_type': 'collection'},\n",
       "  {'id': '59444cebe4b001915f96254f',\n",
       "   'name': 'C-1-1',\n",
       "   'description': 'Climate - Precipitation',\n",
       "   'created': 'Fri Jun 16 16:26:03 CDT 2017',\n",
       "   'thumbnail': None,\n",
       "   'authorId': '587e90a7a3ad2109e72c8651',\n",
       "   'spaces': ['594441eae4b001915f96205c'],\n",
       "   'resource_type': 'dataset'},\n",
       "  {'id': '59444cf6e4b001915f962553',\n",
       "   'name': 'C-1-2',\n",
       "   'description': 'Climate - Precipitation',\n",
       "   'created': 'Fri Jun 16 16:26:14 CDT 2017',\n",
       "   'thumbnail': None,\n",
       "   'authorId': '587e90a7a3ad2109e72c8651',\n",
       "   'spaces': ['594441eae4b001915f96205c'],\n",
       "   'resource_type': 'dataset'},\n",
       "  {'id': '5500f526e4b0feb5ae15458d',\n",
       "   'name': 'ClearCreekIA_HistoricalClimateData.xlsx',\n",
       "   'description': 'Historical climate data for Clear Creek Temperature, Precipitation, Snowfall, Snow Depth, Wind Speed, Pan Evaporation',\n",
       "   'created': 'Thu Oct 24 23:21:16 CDT 2013',\n",
       "   'thumbnail': None,\n",
       "   'authorId': '5500f508e4b0feb5ae154555',\n",
       "   'spaces': ['594441eae4b001915f96205c'],\n",
       "   'resource_type': 'dataset'},\n",
       "  {'id': '564a0843e4b0b6c112b46cac',\n",
       "   'name': 'Clear Creek IA - WA_RAW_Maas_6',\n",
       "   'description': 'Clear Creek, IA\\nZone I Site 1-1\\nWeathering Array EM30136\\nAnemometer, Precipitation',\n",
       "   'created': 'Mon Nov 16 10:45:55 CST 2015',\n",
       "   'thumbnail': '57bc65cfe4b0b805e47a37a8',\n",
       "   'authorId': '577bfd99e4b054f1fa78f685',\n",
       "   'spaces': ['594441f6e4b001915f96206f'],\n",
       "   'resource_type': 'dataset'},\n",
       "  {'id': '596fadd04f0c0b1c81fa4405',\n",
       "   'name': 'WA_RAW_Trimpe_E-P_2017-7-17.xls',\n",
       "   'status': 'PROCESSED',\n",
       "   'thumbnail': '596fade24f0c0b1c81fa4414',\n",
       "   'created': 'Wed Jul 19 14:06:56 CDT 2017',\n",
       "   'resource_type': 'file'},\n",
       "  {'id': '5a32c7674f0c6b32ffa397e7',\n",
       "   'name': 'S-Fowler Farm Weather Station (CZO_FF1)',\n",
       "   'description': 'Site #151\\nLocation: 40°09\\'02.6\" N -88°19\\'52.1\" W\\nSite/Logger Name: CZO_FF1\\nDate deployed: 03/29/2017\\nSensors: PYR pyranometer, ECRN-100 rain gauge, VP-4 RH/Temp/AtmP, LWS leaf wetness, and Davis Cup anemometer. DS-2 sonic anemometer used from 03/29/2017-01/31/2018.\\nLogger(s): METER Group EM60G, SN: 06-01890 (06/28/2018-current)\\nDecagon EM50G, SN: 5G106751 (used 11/14/2017-06/28/2018)\\nDecagon EM50G; SN: 5G106590 (used 03/29/2017-10/14/2017)\\n\\nData collection frequency: 1-min\\nData collected: solar radiation (W/m^2), precipitation (mm), relative humidity (%), temperature (*C), atmospheric pressure (kPa), LWS minutes wet (min) and count, wind speed (m/s), wind direction (degree), and maximum wind speed (m/s)',\n",
       "   'created': 'Thu Dec 14 12:48:07 CST 2017',\n",
       "   'thumbnail': None,\n",
       "   'authorId': '57222685a30d71e0572adf99',\n",
       "   'spaces': ['594441eae4b001915f96205c'],\n",
       "   'resource_type': 'dataset'},\n",
       "  {'id': '5a32e5094f0c6b32ffa39e86',\n",
       "   'name': 'S-River Bend Weather Station (CZO_RB1)',\n",
       "   'description': 'Site #149\\nLocation: 40°10\\'49.1\" N -88°26\\'00.0\" W\\nSite/Logger Name: CZO_RB1\\nDate deployed: 09/15/2016\\nSensors: PYR pyranometer, ECRN-100 rain gauge, VP-4 RH/Temp/AtmP, LWS leaf wetness, and Davis Cup anemometer. DS-2 sonic anemometer was used from 09/15/2016-2/22/2018.\\nLogger(s): METER Group EM60G, SN: 06-01883 (06/14/2018-current)\\nDecagon EM50, SN: EM20692 (used 04/30/2018-06/14/2018)\\nDecagon EM50G, SN: 5G106588 (used 09/15/2016-04/30/2018)\\n\\nMeasurement Interval: 1-min\\nData collected: solar radiation (W/m^2), precipitation (mm), relative humidity (%), temperature (*C), atmospheric pressure (kPa), LWS minutes wet (min) and count, wind speed (m/s), wind direction (degree), and maximum wind speed (m/s)',\n",
       "   'created': 'Thu Dec 14 14:54:33 CST 2017',\n",
       "   'thumbnail': None,\n",
       "   'authorId': '57222685a30d71e0572adf99',\n",
       "   'spaces': ['594441eae4b001915f96205c'],\n",
       "   'resource_type': 'dataset'},\n",
       "  {'id': '57c0b485e4b0b805e47b3df8',\n",
       "   'name': 'Previous measurement station',\n",
       "   'description': 'These sensor locations are previously installed inside USRB, including precipitation stations, sediment station, USGS stream station, Ameriflux tower, ISWS Stream and nutrient station, etc.',\n",
       "   'created': 'Fri Aug 26 16:28:37 CDT 2016',\n",
       "   'thumbnail': None,\n",
       "   'authorId': '5500f508e4b0feb5ae15455e',\n",
       "   'spaces': ['5953ba884f0c5558e1684bf4'],\n",
       "   'resource_type': 'dataset'}],\n",
       " 'from': 0,\n",
       " 'total_size': 12}"
      ]
     },
     "execution_count": 16,
     "metadata": {},
     "output_type": "execute_result"
    }
   ],
   "source": [
    "query = 'precipitation'\n",
    "r = requests.get(\"{}/api/search?query={}\".format(clowder_host, query), headers=headers)\n",
    "r.raise_for_status()\n",
    "r.json()"
   ]
  },
  {
   "cell_type": "markdown",
   "metadata": {},
   "source": [
    "### Search by metadata field\n",
    "\n",
    "To be more specific, we will search for any resource which contains metadata for `ODM2 Variable Name` that is equal to `precipitation`."
   ]
  },
  {
   "cell_type": "code",
   "execution_count": 17,
   "metadata": {},
   "outputs": [
    {
     "data": {
      "text/plain": [
       "{'id': '596faa3b4f0c0b1c81fa42de',\n",
       " 'name': 'Trimpe East Site (Precip tipping bucket site)',\n",
       " 'description': 'Precipitation, temperature and solar radiation sensor (E-P) at Trimpe Farm on the east end of the farm. Installed on 7/11/17. Precip array was moved from the west end of the farm and relocated on the east end. Precip records before 7/11/17 can be found in the Trimpe West dataset.Trimpe East Deep Well has a decagon well transducer measuring hydraulic head and specific conductivity; the transducer has a depth of (6.2m - .73m well casing length = 5.47m). Trimpe East Shallow Well has a decagon well transducer measuring hydraulic head and specific conductivty; the transducer has a depth of (4.57m -1.3m well casing = 3.27m). These well files are denoted as Trimpe_E-W . ',\n",
       " 'created': 'Wed Jul 19 13:51:39 CDT 2017',\n",
       " 'thumbnail': '596fade24f0c0b1c81fa4414',\n",
       " 'authorId': '58b05a8c5792756cf490e664',\n",
       " 'spaces': ['5967f7004f0c0b1c81f8654a'],\n",
       " 'resource_type': 'dataset'}"
      ]
     },
     "execution_count": 17,
     "metadata": {},
     "output_type": "execute_result"
    }
   ],
   "source": [
    "query = '\"ODM2 Variable Name\":\"precipitation\"'\n",
    "r = requests.get(\"{}/api/search?query={}\".format(clowder_host, query), headers=headers)\n",
    "datasets = r.json().get('results')\n",
    "\n",
    "dataset = [d for d in datasets if d.get('name') == 'Trimpe East Site (Precip tipping bucket site)']\n",
    "\n",
    "datasetId = dataset[0].get('id')\n",
    "\n",
    "dataset[0]"
   ]
  },
  {
   "cell_type": "markdown",
   "metadata": {},
   "source": [
    "We list all files in the dataset and download the first in the list. This is just to provide us with a relevant file locally but if you prefer you can ignore this step and later on upload your own file to the system."
   ]
  },
  {
   "cell_type": "code",
   "execution_count": 18,
   "metadata": {},
   "outputs": [
    {
     "name": "stdout",
     "output_type": "stream",
     "text": [
      "Downloaded file WA_RAW_Trimpe_E-P_2017-7-17.xls to local disk\n"
     ]
    }
   ],
   "source": [
    "# List files in dataset\n",
    "url = \"{}/api/datasets/{}/files\".format(clowder_host, datasetId)\n",
    "r = requests.get(url)\n",
    "files = r.json()\n",
    "# Download the first file\n",
    "file_id = files[0].get('id')\n",
    "file_name = files[0].get('filename')\n",
    "url = \"{}/api/files/{}/blob\".format(clowder_host, file_id)\n",
    "r = requests.get(url)\n",
    "with open(file_name, 'wb') as f:\n",
    "    f.write(r.content)\n",
    "print(f'Downloaded file {file_name} to local disk')"
   ]
  },
  {
   "cell_type": "markdown",
   "metadata": {},
   "source": [
    "### Create new dataset\n",
    "\n",
    "Create a new dataset to contain the file we just downloaded (or a new one) and metadata."
   ]
  },
  {
   "cell_type": "code",
   "execution_count": 19,
   "metadata": {},
   "outputs": [
    {
     "name": "stdout",
     "output_type": "stream",
     "text": [
      "Created new dataset https://data.imlczo.org/clowder/datasets/5ee7d6a64f0ccc5274e45431\n"
     ]
    }
   ],
   "source": [
    "url = \"{}/api/datasets/createempty\".format(clowder_host)\n",
    "payload = json.dumps({'name': 'Geosemantics Demo', \n",
    "                      'description': 'A dataset used for demoing basic metadata annotation functionality',\n",
    "                      'access': 'PRIVATE',\n",
    "                      'space': [],\n",
    "                      'collection': []}) \n",
    "\n",
    "r = requests.post(url, data=payload, headers=headers)\n",
    "r.raise_for_status()\n",
    "new_dataset = r.json()\n",
    "new_dataset_id = new_dataset.get('id')\n",
    "print(f'Created new dataset {clowder_host}/datasets/{new_dataset_id}')"
   ]
  },
  {
   "cell_type": "markdown",
   "metadata": {},
   "source": [
    "### Upload file to new dataset\n",
    "\n",
    "We now upload a file to the dataset that we just created. If you prefer uploading a different file, change the file name below."
   ]
  },
  {
   "cell_type": "code",
   "execution_count": 20,
   "metadata": {},
   "outputs": [
    {
     "name": "stdout",
     "output_type": "stream",
     "text": [
      "Uploaded file https://data.imlczo.org/clowder/files/5ee7d6a94f0ccc5274e45437\n"
     ]
    }
   ],
   "source": [
    "url = \"{}/api/uploadToDataset/{}\".format(clowder_host, new_dataset_id)\n",
    "# change file_name if you prefer uploading a different file from your local directory\n",
    "files = {'file': open(file_name, 'rb')}\n",
    "r = requests.post(url, files=files, headers={'X-API-Key': clowder_key})\n",
    "r.raise_for_status()\n",
    "uploaded_file_id = r.json().get('id')\n",
    "print(f'Uploaded file {clowder_host}/files/{uploaded_file_id}')"
   ]
  },
  {
   "cell_type": "markdown",
   "metadata": {},
   "source": [
    "### Add metadata to new file\n",
    "\n",
    "We now upload metadata to the file we have just uploaded. Note that this operation can be executed multiple times with different payloads. Every time a new entry is added to the list of metadata documents associated with a file or dataset. The same user can update multiple values of a specific entry or different users can specify alternative values of the same metadata types. It is is up to the client to decide which version is the most accurate. Users can delete entries that are not valid anymore. This type of generic metadata is compatible to the [advanced publishing techniquies described in the ESIP science-on-schema.org](https://github.com/ESIPFed/science-on-schema.org/blob/master/guides/Dataset.md#advanced-publishing-techniques) and could be added to a DCAT Dataset as described there."
   ]
  },
  {
   "cell_type": "code",
   "execution_count": 21,
   "metadata": {},
   "outputs": [
    {
     "name": "stdout",
     "output_type": "stream",
     "text": [
      "Response Metadata successfully added to db\n",
      "View metadata you have just uploaded on the file page https://data.imlczo.org/clowder/files/5ee7d6a94f0ccc5274e45437\n"
     ]
    }
   ],
   "source": [
    "url = \"{}/api/files/{}/metadata.jsonld\".format(clowder_host, uploaded_file_id)\n",
    "payload = {\n",
    "    \"@context\":[\n",
    "        \"https://clowder.ncsa.illinois.edu/contexts/metadata.jsonld\",\n",
    "        {\n",
    "            \"CSDMS Standard Name\": \"http://csdms.colorado.edu/wiki/CSN_Searchable_List#atmosphere_air__temperature\",\n",
    "            \"Unit\": \"http://ecgs.ncsa.illinois.edu/gsis/sas/unit/udunits2#degree_Celsius\"\n",
    "        }\n",
    "    ],\n",
    "    \"agent\": {\n",
    "        \"@type\":\"cat:extractor\",\n",
    "        \"name\":\"ECGS Notebook\",\n",
    "        \"extractor_id\":\"https://clowder.ncsa.illinois.edu/api/extractors/ecgs\"\n",
    "    },\n",
    "    \"content\": {\n",
    "        \"CSDMS Standard Name\": \"atmosphere_air__temperature\",\n",
    "        \"Unit\": \"degree_Celsius\"\n",
    "    }\n",
    "}\n",
    "r = requests.post(url, headers = headers, data=json.dumps(payload))\n",
    "r.raise_for_status()\n",
    "print('Response ' + r.json())\n",
    "print(f'View metadata you have just uploaded on the file page {clowder_host}/files/{uploaded_file_id}')"
   ]
  },
  {
   "cell_type": "markdown",
   "metadata": {},
   "source": [
    "We can also retrieve all the metadata available on the file, including metadata automatically created by the system."
   ]
  },
  {
   "cell_type": "code",
   "execution_count": 22,
   "metadata": {},
   "outputs": [
    {
     "data": {
      "text/plain": [
       "[{'@context': ['https://clowder.ncsa.illinois.edu/contexts/metadata.jsonld',\n",
       "   {'CSDMS Standard Name': 'http://csdms.colorado.edu/wiki/CSN_Searchable_List#atmosphere_air__temperature',\n",
       "    'Unit': 'http://ecgs.ncsa.illinois.edu/gsis/sas/unit/udunits2#degree_Celsius'}],\n",
       "  'attached_to': {'resource_type': 'cat:file',\n",
       "   'url': 'https://data.imlczo.org/clowder/files/5ee7d6a94f0ccc5274e45437'},\n",
       "  'created_at': 'Mon Jun 15 15:14:33 CDT 2020',\n",
       "  'agent': {'@type': 'cat:extractor',\n",
       "   'name': 'ECGS Notebook',\n",
       "   'extractor_id': 'https://clowder.ncsa.illinois.edu/api/extractors/ecgs'},\n",
       "  'content': {'CSDMS Standard Name': 'atmosphere_air__temperature',\n",
       "   'Unit': 'degree_Celsius'}}]"
      ]
     },
     "execution_count": 22,
     "metadata": {},
     "output_type": "execute_result"
    }
   ],
   "source": [
    "url = \"{}/api/files/{}/metadata.jsonld\".format(clowder_host, uploaded_file_id)\n",
    "r = requests.get(url, headers = headers)\n",
    "r.json()"
   ]
  },
  {
   "cell_type": "markdown",
   "metadata": {},
   "source": [
    "We have defined the context by including an external one that contains the basic elements of any Clowder metadata document such as `agent` as well as specific ones for the two entries in `content`. We can view the rest of the context here:"
   ]
  },
  {
   "cell_type": "code",
   "execution_count": 23,
   "metadata": {},
   "outputs": [
    {
     "data": {
      "text/plain": [
       "{'@context': {'cat': 'https://clowder.ncsa.illinois.edu/#',\n",
       "  'extractor_id': {'@id': 'cat:extractor/id', '@type': '@id'},\n",
       "  'user_id': {'@id': 'cat:user/id', '@type': '@id'},\n",
       "  'created_at': {'@id': 'http://purl.org/dc/terms/created',\n",
       "   '@type': 'http://www.w3.org/2001/XMLSchema#dateTime'},\n",
       "  'agent': {'@id': 'http://www.w3.org/ns/prov#Agent'},\n",
       "  'user': 'cat:user',\n",
       "  'extractor': 'cat:extractor',\n",
       "  'content': {'@id': 'https://clowder.ncsa.illinois.edu/metadata#content'}}}"
      ]
     },
     "execution_count": 23,
     "metadata": {},
     "output_type": "execute_result"
    }
   ],
   "source": [
    "# The context file describes the basic elements of a Clowder metadata document\n",
    "r = requests.get('https://clowder.ncsa.illinois.edu/contexts/metadata.jsonld')\n",
    "r.json()"
   ]
  },
  {
   "cell_type": "markdown",
   "metadata": {},
   "source": [
    "### Matching Models with Data\n",
    "\n",
    "The GSIS also prototyped a method to match simulations models developed using the Basic Model Interface (BMI) (Jiang et al. 2017) to input datasets. Given definitions for both, the system checks if a specific variable is compatible between data and model. The user provides the id of an RDF graph representing a model, one of an RDF graph representing a dataset, and the RDF predicates used to identify the variables in each graph. It then tries to match the two lists leveraging the `skos:sameAs` crosswalks defined above. The results includes whether a match was found, what variables are missing if so, and what variables will require a crosswalk and potentially a conversion.\n",
    "\n",
    "For example, in the case below a match was found but the crosswalk between `http://vocabulary.odm2.org/variablename/windSpeed` and `http://csdms.colorado.edu/wiki/CSN_Searchable_List/land_surface_air_flow__speed` was required."
   ]
  },
  {
   "cell_type": "code",
   "execution_count": 24,
   "metadata": {},
   "outputs": [
    {
     "data": {
      "text/plain": [
       "{'Matching status': 'true',\n",
       " 'missing variables': '',\n",
       " 'model variables': 'http://vocabulary.odm2.org/variablename/windSpeed,http://csdms.colorado.edu/wiki/CSN_Searchable_List/atmosphere_bottom_air__brutsaert_emissivity_canopy_factor',\n",
       " 'data variables, original': 'http://csdms.colorado.edu/wiki/CSN_Searchable_List/atmosphere_bottom_air__brutsaert_emissivity_canopy_factor,http://csdms.colorado.edu/wiki/CSN_Searchable_List/land_surface_air_flow__speed',\n",
       " 'data variables, with inference': 'http://csdms.colorado.edu/wiki/CSN_Searchable_List/atmosphere_bottom_air__brutsaert_emissivity_canopy_factor,http://csdms.colorado.edu/wiki/CSN_Searchable_List/land_surface_air_flow__speed,http://vocabulary.odm2.org/variablename/windGustSpeed,http://vocabulary.odm2.org/variablename/windSpeed'}"
      ]
     },
     "execution_count": 24,
     "metadata": {},
     "output_type": "execute_result"
    }
   ],
   "source": [
    "model_id = 'model-3'\n",
    "model_var_property_name = 'http://ecgs.ncsa.illinois.edu/bmi_models/temp/hasStandardName'\n",
    "data_id = 'data-3'\n",
    "data_var_property_name = 'http://ecgs.ncsa.illinois.edu/gsis/sas/vars'\n",
    "        \n",
    "r = requests.get(f'{gsis_host}/gsis/modelDataMatches?model={model_id}&modelVarPropertyName={model_var_property_name}&data={data_id}&dataVarPropertyName={data_var_property_name}')\n",
    "r.json()"
   ]
  },
  {
   "cell_type": "markdown",
   "metadata": {},
   "source": [
    "For reference here are the two RDF graphs being compared:"
   ]
  },
  {
   "cell_type": "code",
   "execution_count": 25,
   "metadata": {},
   "outputs": [
    {
     "data": {
      "text/plain": [
       "{'@graph': [{'@id': '_:b0',\n",
       "   '@type': 'ns1:variable',\n",
       "   'ns1:hasScriptName': 'beta',\n",
       "   'hasSpatialProperties': '_:b2',\n",
       "   'hasStandardName': 'odm2:windSpeed',\n",
       "   'hasTemporalProperties': '_:b3',\n",
       "   'ns1:hasUnits': 'radians',\n",
       "   'hasValueType': 'xsd:double'},\n",
       "  {'@id': '_:b1',\n",
       "   '@type': 'ns1:variable',\n",
       "   'ns1:hasScriptName': 'canopy_factor',\n",
       "   'hasSpatialProperties': '_:b6',\n",
       "   'hasStandardName': 'csn:atmosphere_bottom_air__brutsaert_emissivity_canopy_factor',\n",
       "   'hasTemporalProperties': '_:b7',\n",
       "   'ns1:hasUnits': '1',\n",
       "   'hasValueType': 'xsd:double'},\n",
       "  {'@id': '_:b2',\n",
       "   'hasGridNumberInX': 'ns1:unknown',\n",
       "   'hasGridNumberInY': 'ns1:unknown',\n",
       "   'hasGridSpacingX': '_:b4',\n",
       "   'hasGridSpacingY': '_:b5',\n",
       "   'ns1:hasGridType': 'uniform',\n",
       "   'hasSouthBounding': 'ns1:unknown',\n",
       "   'hasWestBounding': 'ns1:unknown'},\n",
       "  {'@id': '_:b3',\n",
       "   'hasTimeStep': 'ns1:unknown',\n",
       "   'hasTimeStep:Type': 'fixed',\n",
       "   'ns1:hasTimeUnits': 'seconds'},\n",
       "  {'@id': '_:b4', 'ns1:hasUnits': 'meters', 'hasValue': 'ns1:unknown'},\n",
       "  {'@id': '_:b5', 'ns1:hasUnits': 'meters', 'hasValue': 'ns1:unknown'},\n",
       "  {'@id': '_:b6',\n",
       "   'hasGridNumberInX': 'ns1:unknown',\n",
       "   'hasGridNumberInY': 'ns1:unknown',\n",
       "   'hasGridSpacingX': '_:b8',\n",
       "   'hasGridSpacingY': '_:b9',\n",
       "   'ns1:hasGridType': 'uniform',\n",
       "   'hasSouthBounding': 'ns1:unknown',\n",
       "   'hasWestBounding': 'ns1:unknown'},\n",
       "  {'@id': '_:b7',\n",
       "   'hasTimeStep': 'ns1:unknown',\n",
       "   'hasTimeStep:Type': 'fixed',\n",
       "   'ns1:hasTimeUnits': 'seconds'},\n",
       "  {'@id': '_:b8', 'ns1:hasUnits': 'meters', 'hasValue': 'ns1:unknown'},\n",
       "  {'@id': '_:b9', 'ns1:hasUnits': 'meters', 'hasValue': 'ns1:unknown'},\n",
       "  {'@id': 'ns1:TopoFlow_Meteorology',\n",
       "   '@type': 'ns1:model',\n",
       "   'hasInput': ['_:b0', '_:b1']}],\n",
       " '@context': {'hasInput': {'@id': 'http://ecgs.ncsa.illinois.edu/bmi_models/temp/hasInput',\n",
       "   '@type': '@id'},\n",
       "  'hasScriptName': {'@id': 'http://ecgs.ncsa.illinois.edu/bmi_models/temp/hasScriptName',\n",
       "   '@type': 'http://www.w3.org/2001/XMLSchema#string'},\n",
       "  'hasUnits': {'@id': 'http://ecgs.ncsa.illinois.edu/bmi_models/temp/hasUnits',\n",
       "   '@type': 'http://www.w3.org/2001/XMLSchema#string'},\n",
       "  'hasSpatialProperties': {'@id': 'http://ecgs.ncsa.illinois.edu/bmi_models/temp/hasSpatialProperties',\n",
       "   '@type': '@id'},\n",
       "  'hasStandardName': {'@id': 'http://ecgs.ncsa.illinois.edu/bmi_models/temp/hasStandardName',\n",
       "   '@type': '@id'},\n",
       "  'hasTemporalProperties': {'@id': 'http://ecgs.ncsa.illinois.edu/bmi_models/temp/hasTemporalProperties',\n",
       "   '@type': '@id'},\n",
       "  'hasValueType': {'@id': 'http://ecgs.ncsa.illinois.edu/bmi_models/temp/hasValueType',\n",
       "   '@type': '@id'},\n",
       "  'hasGridNumberInX': {'@id': 'http://ecgs.ncsa.illinois.edu/bmi_models/temp/hasGridNumberInX',\n",
       "   '@type': '@id'},\n",
       "  'hasGridNumberInY': {'@id': 'http://ecgs.ncsa.illinois.edu/bmi_models/temp/hasGridNumberInY',\n",
       "   '@type': '@id'},\n",
       "  'hasGridSpacingX': {'@id': 'http://ecgs.ncsa.illinois.edu/bmi_models/temp/hasGridSpacingX',\n",
       "   '@type': '@id'},\n",
       "  'hasGridSpacingY': {'@id': 'http://ecgs.ncsa.illinois.edu/bmi_models/temp/hasGridSpacingY',\n",
       "   '@type': '@id'},\n",
       "  'hasGridType': {'@id': 'http://ecgs.ncsa.illinois.edu/bmi_models/temp/hasGridType',\n",
       "   '@type': 'http://www.w3.org/2001/XMLSchema#string'},\n",
       "  'hasSouthBounding': {'@id': 'http://ecgs.ncsa.illinois.edu/bmi_models/temp/hasSouthBounding',\n",
       "   '@type': '@id'},\n",
       "  'hasWestBounding': {'@id': 'http://ecgs.ncsa.illinois.edu/bmi_models/temp/hasWestBounding',\n",
       "   '@type': '@id'},\n",
       "  'hasValue': {'@id': 'http://ecgs.ncsa.illinois.edu/bmi_models/temp/hasValue',\n",
       "   '@type': '@id'},\n",
       "  'hasTimeStep': {'@id': 'http://ecgs.ncsa.illinois.edu/bmi_models/temp/hasTimeStep',\n",
       "   '@type': '@id'},\n",
       "  'hasTimeStepType': {'@id': 'http://ecgs.ncsa.illinois.edu/bmi_models/temp/hasTimeStepType',\n",
       "   '@type': 'http://www.w3.org/2001/XMLSchema#string'},\n",
       "  'hasTimeUnits': {'@id': 'http://ecgs.ncsa.illinois.edu/bmi_models/temp/hasTimeUnits',\n",
       "   '@type': 'http://www.w3.org/2001/XMLSchema#string'},\n",
       "  'rdf': 'http://www.w3.org/1999/02/22-rdf-syntax-ns#',\n",
       "  'xml': 'http://www.w3.org/XML/1998/namespace',\n",
       "  'xsd': 'http://www.w3.org/2001/XMLSchema#',\n",
       "  'odm2': 'http://vocabulary.odm2.org/variablename/',\n",
       "  'rdfs': 'http://www.w3.org/2000/01/rdf-schema#',\n",
       "  'ns1': 'http://ecgs.ncsa.illinois.edu/bmi_models/temp/',\n",
       "  'csn': 'http://csdms.colorado.edu/wiki/CSN_Searchable_List/'}}"
      ]
     },
     "execution_count": 25,
     "metadata": {},
     "output_type": "execute_result"
    }
   ],
   "source": [
    "r = requests.get(f\"{gsis_host}/gsis/read?graph={model_id}\")\n",
    "r.json()"
   ]
  },
  {
   "cell_type": "code",
   "execution_count": 26,
   "metadata": {},
   "outputs": [
    {
     "data": {
      "text/plain": [
       "{'@id': '_:b0',\n",
       " 'http://ecgs.ncsa.illinois.edu/gsis/sas/unit': 'degree',\n",
       " 'vars': ['csn:atmosphere_bottom_air__brutsaert_emissivity_canopy_factor',\n",
       "  'csn:land_surface_air_flow__speed'],\n",
       " '@context': {'vars': {'@id': 'http://ecgs.ncsa.illinois.edu/gsis/sas/vars',\n",
       "   '@type': '@id'},\n",
       "  'unit': {'@id': 'http://ecgs.ncsa.illinois.edu/gsis/sas/unit',\n",
       "   '@type': 'http://www.w3.org/2001/XMLSchema#string'},\n",
       "  'csn': 'http://csdms.colorado.edu/wiki/CSN_Searchable_List/'}}"
      ]
     },
     "execution_count": 26,
     "metadata": {},
     "output_type": "execute_result"
    }
   ],
   "source": [
    "r = requests.get(f\"{gsis_host}/gsis/read?graph={data_id}\")\n",
    "r.json()"
   ]
  },
  {
   "cell_type": "markdown",
   "metadata": {},
   "source": [
    "## Conclusions\n",
    "\n",
    "This short notebook provides a few simple examples of developing web applications around the principles of Linked Data. By developing services built around interoperability, we hope it will be easier in the future to build services that can easily interoperate. Earth sciences provide unique challenges in that the way researchers store their data can vary greatly. The Linked Data approach can be useful in overcoming some of these challenges even thought it provides its own technical challenges in terms of adoption. Over time efforts like [Schema.org](https://schema.org/) are showing that the principles of Linked Data are important but that simplifying some of their approaches might be the key to widespread adoption. Even though the GSIS stores information as RDF graphs, it provides simple HTTP web services to make it easier to be used in the existing ecosystem of tools. Furthermore, the Clowder data framework provides simple GUI and APIs to store rich metadata documents next to the raw bytes, but it tries to find a good compromise between expressivenes of the metadata and simplicity of use."
   ]
  },
  {
   "cell_type": "markdown",
   "metadata": {},
   "source": [
    "## References\n",
    "\n",
    "1. Marini, L., I. Gutierrez-Polo, R. Kooper, S. Puthanveetil Satheesan, M. Burnette, J. Lee, T. Nicholson, Y. Zhao, and K. McHenry. 2018. Clowder: Open Source Data Management for Long Tail Data. In Proceedings of the Practice and Experience on Advanced Research Computing (PEARC '18). ACM, New York, NY, USA, Article 40, 8 pages. DOI: https://doi.org/10.1145/3219104.3219159\n",
    "2. Jiang, Peishi and Elag, Mostaf and Kumar, Praveen and Peckham, Scott and Marini, Luigi and Liu, Rui, “A service-oriented architecture for coupling web service models using the Basic Model Interface (BMI)”, Environmental Modelling & Software, 2017\n",
    "3. Elag, M.M., P. Kumar, L. Marini, S.D. Peckham (2015) Semantic interoperability of long-tail geoscience resources over the Web, In: Large-Scale Machine Learning in the Earth Sciences, Eds. A.N. Srivastava, R. Nemani and K. Steinhaeuser, Taylor and Francis\n",
    "4. Peckham, S.D. (2014a) The CSDMS Standard Names: Cross-domain naming conventions for describing process models, data sets and their associated variables, Proceedings of the 7th Intl. Congress on Env. Modelling and Software, International Environmental Modelling and Software Society (iEMSs), San Diego, CA. (Eds. D.P. Ames, N.W.T. Quinn, A.E. Rizzoli)\n",
    "5. Horsburgh, J. S., Aufdenkampe, A. K., Mayorga, E., Lehnert, K. A., Hsu, L., Song, L., Spackman Jones, A., Damiano, S. G., Tarboton, D. G., Valentine, D., Zaslavsky, I., Whitenack, T. (2016). Observations Data Model 2: A community information model for spatially discrete Earth observations, Environmental Modelling & Software, 79, 55-74, http://dx.doi.org/10.1016/j.envsoft.2016.01.010"
   ]
  },
  {
   "cell_type": "markdown",
   "metadata": {},
   "source": [
    "## License\n",
    "\n",
    "This notebook is licensed under the [Apache License](http://www.apache.org/licenses/LICENSE-2.0)."
   ]
  },
  {
   "cell_type": "markdown",
   "metadata": {},
   "source": []
  }
 ],
 "metadata": {
  "kernelspec": {
   "display_name": "Python 3",
   "language": "python",
   "name": "python3"
  },
  "language_info": {
   "codemirror_mode": {
    "name": "ipython",
    "version": 3
   },
   "file_extension": ".py",
   "mimetype": "text/x-python",
   "name": "python",
   "nbconvert_exporter": "python",
   "pygments_lexer": "ipython3",
   "version": "3.7.3"
  }
 },
 "nbformat": 4,
 "nbformat_minor": 4
}
